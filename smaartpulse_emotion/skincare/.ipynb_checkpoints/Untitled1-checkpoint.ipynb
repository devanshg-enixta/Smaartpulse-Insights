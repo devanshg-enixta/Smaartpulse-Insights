{
 "cells": [
  {
   "cell_type": "code",
   "execution_count": 1,
   "metadata": {},
   "outputs": [],
   "source": [
    "import pandas as pd\n"
   ]
  },
  {
   "cell_type": "code",
   "execution_count": 2,
   "metadata": {},
   "outputs": [],
   "source": [
    "source = pd.read_csv(\"source_reviews_skincare_25-1-2018.txt\",sep='~')\n",
    "tree = pd.read_csv(\"treemap_outputfile_mapped_2018-1-25_skincare_sentiment_loreal.txt\",sep='~')"
   ]
  },
  {
   "cell_type": "code",
   "execution_count": 3,
   "metadata": {},
   "outputs": [],
   "source": [
    "import re\n",
    "out_prod=[]\n",
    "for row in source.to_dict(\"records\"):\n",
    "    row['product_name'] = row['product_name'].strip().lower()\n",
    "    row['product_name'] = re.sub(r\"l'oreal\", \"loreal\", row['product_name'])\n",
    "    row['product_name'] = row['product_name'].replace('l-oreal',\"loreal\").replace(\"l'oreal\",\"loreal\").replace('l-a-girl',\"l_a_girl\").replace('7-heaven',\"7_heaven\").replace(\" \",\"-\").lower()\n",
    "    x = row['product_name'].split('-', 1)\n",
    "    #x = x.split(' ')\n",
    "    row['company'] = x[0].lower()\n",
    "    out_prod.append(row)\n",
    "mapped_comp_source=pd.DataFrame(out_prod)"
   ]
  },
  {
   "cell_type": "code",
   "execution_count": 4,
   "metadata": {},
   "outputs": [],
   "source": [
    "mapped_comp = mapped_comp_source.company.unique()"
   ]
  },
  {
   "cell_type": "code",
   "execution_count": 5,
   "metadata": {},
   "outputs": [
    {
     "data": {
      "text/plain": [
       "array(['lotus', 'olay', 'loreal', 'lakme', 'mcaffeine', 'neutrogena',\n",
       "       'aveeno', 'vlcc', 'kama', 'nivea', 'bio', 'biotique', 'carolina',\n",
       "       'himalaya', 'aroma', 'vaadi', 'soulflower', 'vaseline', 'envy',\n",
       "       'palmer', 'merit', 'dove', 'plum', 'revlon', 'nykaa', 'ponds',\n",
       "       'the', 'colorbar', 'innisfree', 'park', 'st', 'avon', 'forest',\n",
       "       'rexona', 'giorgio', 'v', 'estee', 'o3', 'paco', 'bvlgari',\n",
       "       'titan', 'marc', 'enchanteur', 'iba', 'layer', 'mamaearth', 'set',\n",
       "       'kaya', 'calvin', 'parachute', 'vanesa', 'davidoff', 'oriflame',\n",
       "       'cinthol', 'jimmy', 'givenchy', 'elizabeth', 'engage', 'juicy',\n",
       "       'aromamagic', 'palmers', 'khadi', 'faces', 'denver', 'sebamed',\n",
       "       'bioderma', 'nike', 'chloe', 'vedic', 'clinique', 'daily',\n",
       "       'lanvin', 'fabindia', 'dolce', 'puresense', 'nautica', 'happily',\n",
       "       'india', 'swiss', 'boroplus', 'coach', 'roberto', 'yardley', 'm',\n",
       "       'natural', 'ylg', 'ralph', 'fogg', 'kiehl', 'joy', 'axe', 'natio',\n",
       "       'montblanc', 'united', 'all', 'just', 'dermalogica', 'eva',\n",
       "       'roses', 'kamasutra', 'biocare', 'panache', 'disney', 'pucelle',\n",
       "       'vivel', 'narciso', 'uriage', 'votre', 'archies', 'shahnaz',\n",
       "       'coloressence', 'skin', 'lacto', 'it', 'garnier'], dtype=object)"
      ]
     },
     "execution_count": 5,
     "metadata": {},
     "output_type": "execute_result"
    }
   ],
   "source": [
    "mapped_comp"
   ]
  },
  {
   "cell_type": "code",
   "execution_count": null,
   "metadata": {},
   "outputs": [
    {
     "name": "stdout",
     "output_type": "stream",
     "text": [
      "lotus\n",
      "olay\n",
      "loreal\n",
      "lakme\n",
      "mcaffeine\n",
      "neutrogena\n",
      "aveeno\n",
      "vlcc\n",
      "kama\n",
      "nivea\n",
      "bio\n",
      "biotique\n",
      "carolina\n",
      "himalaya\n",
      "aroma\n",
      "vaadi\n"
     ]
    }
   ],
   "source": [
    "import calendar\n",
    "import datetime\n",
    "import dateutil\n",
    "today = datetime.datetime.now()\n",
    "i=1\n",
    "out_t=[]\n",
    "colum = [\"Brand_name\",\"Trend_Total_Reviews\",\"Month\",\"Year\"]\n",
    "for c in mapped_comp:\n",
    "    print c\n",
    "    cnt_p = 0\n",
    "    cnt = 0\n",
    "    cnt_n=0\n",
    "    comp_rev = mapped_comp_source[mapped_comp_source.company == c]\n",
    "    company = c\n",
    "    for i in range (1,13):\n",
    "        cnt =0\n",
    "#        cnt_p =0\n",
    " #       cnt_n=0\n",
    "        for row in comp_rev.to_dict(\"records\"):\n",
    "            dt = dateutil.parser.parse(row['review_date'])\n",
    "            if dt.year == today.year - 1:\n",
    "                year = dt.year\n",
    "                if dt.month == i:\n",
    "                    #if row['sentiment_type'].strip() == 'negative':\n",
    "                     #   cnt_n = cnt_n+1\n",
    "                    #else:\n",
    "                      #  cnt_p =cnt_p+1\n",
    "                    cnt = cnt +1\n",
    "        if cnt > 0 :\n",
    "            row2 = [company,cnt,i,year]#,float(cnt_p/float(cnt))*100]\n",
    "            out_t.append(row2)\n",
    "out_t=pd.DataFrame(out_t)        \n",
    "out_t.columns=colum"
   ]
  },
  {
   "cell_type": "code",
   "execution_count": 17,
   "metadata": {},
   "outputs": [],
   "source": [
    "out_t.to_csv(\"1_task_12_months_review_brand_wise_skincare.csv\",index=False)"
   ]
  },
  {
   "cell_type": "code",
   "execution_count": 18,
   "metadata": {},
   "outputs": [],
   "source": [
    "out_prod_tree_date = tree.merge(mapped_comp_source, left_on='source_review_id', right_on='source_review_id')"
   ]
  },
  {
   "cell_type": "code",
   "execution_count": null,
   "metadata": {},
   "outputs": [
    {
     "name": "stdout",
     "output_type": "stream",
     "text": [
      "revlon\n",
      "68.2926829268\n",
      "53.8461538462\n",
      "74.1935483871\n",
      "87.0967741935\n",
      "86.6666666667\n",
      "68.75\n",
      "55.5555555556\n",
      "64.7058823529\n",
      "86.1111111111\n",
      "75.7575757576\n",
      "100.0\n",
      "93.75\n",
      "colorbar\n",
      "47.9681978799\n",
      "95.3156822811\n",
      "34.1496598639\n",
      "10.5289174493\n",
      "38.3458646617\n"
     ]
    }
   ],
   "source": [
    "i=1\n",
    "out_t_sent=[]\n",
    "map_comp_tree = out_prod_tree_date.company.unique()\n",
    "#print map_comp_tree\n",
    "#colu = [\"Brand_name\",\"Trend_Total_Reviews\",\"Month\",\"Year\",\"positive\"]\n",
    "for c in map_comp_tree:\n",
    "    print c\n",
    "    cnt_p = 0\n",
    "    cnt = 0\n",
    "    cnt_n=0\n",
    "    comp_rev = out_prod_tree_date[out_prod_tree_date.company == c]\n",
    "    company = c\n",
    "    for i in range (1,13):\n",
    "        cnt =0\n",
    "        cnt_p =0\n",
    "        cnt_n=0\n",
    "        for row in comp_rev.to_dict(\"records\"):\n",
    "            dt = dateutil.parser.parse(row['review_date'])\n",
    "            if dt.year == today.year - 1:\n",
    "                year = dt.year\n",
    "                if dt.month == i:\n",
    "                    if row['sentiment_type'].strip() == 'negative':\n",
    "                        cnt_n = cnt_n+1\n",
    "                    else:\n",
    "                        cnt_p =cnt_p+1\n",
    "                    cnt = cnt +1\n",
    "      #  print cnt\n",
    "        if cnt > 0 :\n",
    "            pos = (float(cnt_p/float(cnt))*100)\n",
    "            print pos\n",
    "            row2 = [company,cnt,i,year,pos]\n",
    "            out_t_sent.append(row2)\n",
    "out_t_sent=pd.DataFrame(out_t_sent)        \n",
    "#out_t_sent.columns=colu\n",
    "out_t_sent.to_csv(\"2_task_positive_percentage_skincare.csv\")"
   ]
  },
  {
   "cell_type": "markdown",
   "metadata": {},
   "source": []
  },
  {
   "cell_type": "code",
   "execution_count": null,
   "metadata": {},
   "outputs": [],
   "source": [
    "out_prod_date"
   ]
  },
  {
   "cell_type": "code",
   "execution_count": null,
   "metadata": {},
   "outputs": [],
   "source": []
  },
  {
   "cell_type": "code",
   "execution_count": null,
   "metadata": {},
   "outputs": [],
   "source": []
  }
 ],
 "metadata": {
  "kernelspec": {
   "display_name": "Python 2",
   "language": "python",
   "name": "python2"
  },
  "language_info": {
   "codemirror_mode": {
    "name": "ipython",
    "version": 2
   },
   "file_extension": ".py",
   "mimetype": "text/x-python",
   "name": "python",
   "nbconvert_exporter": "python",
   "pygments_lexer": "ipython2",
   "version": "2.7.10"
  }
 },
 "nbformat": 4,
 "nbformat_minor": 2
}
