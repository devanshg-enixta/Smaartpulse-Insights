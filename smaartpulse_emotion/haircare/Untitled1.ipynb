{
 "cells": [
  {
   "cell_type": "code",
   "execution_count": 1,
   "metadata": {},
   "outputs": [],
   "source": [
    "import pandas as pd\n"
   ]
  },
  {
   "cell_type": "code",
   "execution_count": 2,
   "metadata": {},
   "outputs": [],
   "source": [
    "source = pd.read_csv(\"source_reviews_shampoo_25-1-2018_correct_sreeni.txt\",sep='~')\n",
    "tree = pd.read_csv(\"treemap_outputfile_mapped_2018-1-29_shampoo_sentiment_hul.txt\",sep='~')"
   ]
  },
  {
   "cell_type": "code",
   "execution_count": 3,
   "metadata": {},
   "outputs": [],
   "source": [
    "source=source.drop_duplicates()\n",
    "del tree['source']"
   ]
  },
  {
   "cell_type": "code",
   "execution_count": 4,
   "metadata": {},
   "outputs": [],
   "source": [
    "tree=tree.drop_duplicates()"
   ]
  },
  {
   "cell_type": "code",
   "execution_count": 5,
   "metadata": {},
   "outputs": [
    {
     "data": {
      "text/plain": [
       "12345"
      ]
     },
     "execution_count": 5,
     "metadata": {},
     "output_type": "execute_result"
    }
   ],
   "source": [
    "len(tree.index)"
   ]
  },
  {
   "cell_type": "code",
   "execution_count": 10,
   "metadata": {},
   "outputs": [],
   "source": [
    "out_prod=[]\n",
    "for row in source.to_dict(\"records\"):\n",
    "    row['product_name'] = row['product_name'].lower()\n",
    "    row['product_name'] = row['product_name'].replace(\"l'oreal\",\"loreal\").replace('l-oreal',\"loreal\").replace('e-l-f',\"elf\").replace('v-color',\"\").replace('m-n-mn',\"mn\").replace('m-a-c',\"mac\").replace('k-veda',\"KVeda\").replace('l-a-girl',\"l_a_girl\").replace('7-heaven',\"7_heaven\").replace('7heavens',\"7_heaven\").replace('7-heavens',\"7_heaven\").replace('c-a-l-los-angeles',\"c_a_l_los_angeles\").replace('c-l-los-angeles',\"c_a_l_los_angeles\").replace(\" \",\"-\").lower()\n",
    "    x = row['product_name'].split('-', 1)\n",
    "    #x = x.split(' ')\n",
    "    row['company'] = x[0].lower()\n",
    "    out_prod.append(row)\n",
    "mapped_comp_source=pd.DataFrame(out_prod)"
   ]
  },
  {
   "cell_type": "code",
   "execution_count": 11,
   "metadata": {},
   "outputs": [],
   "source": [
    "mapped_comp = mapped_comp_source.company.unique()"
   ]
  },
  {
   "cell_type": "code",
   "execution_count": 12,
   "metadata": {},
   "outputs": [
    {
     "data": {
      "text/plain": [
       "3"
      ]
     },
     "execution_count": 12,
     "metadata": {},
     "output_type": "execute_result"
    }
   ],
   "source": [
    "len(mapped_comp)"
   ]
  },
  {
   "cell_type": "code",
   "execution_count": 13,
   "metadata": {},
   "outputs": [
    {
     "name": "stdout",
     "output_type": "stream",
     "text": [
      "dove\n",
      "loreal\n",
      "pantene\n"
     ]
    }
   ],
   "source": [
    "import calendar\n",
    "import datetime\n",
    "import dateutil\n",
    "today = datetime.datetime.now()\n",
    "i=1\n",
    "out_t=[]\n",
    "colum = [\"Brand_name\",\"Total_Number_of_Reviews\",\"Month\",\"Year\"]\n",
    "for c in mapped_comp:\n",
    "    print c\n",
    "    cnt_p = 0\n",
    "    cnt = 0\n",
    "    cnt_n=0\n",
    "    comp_rev = mapped_comp_source[mapped_comp_source.company == c]\n",
    "    company = c\n",
    "    for i in range (1,13):\n",
    "        cnt =0\n",
    "#        cnt_p =0\n",
    " #       cnt_n=0\n",
    "        for row in comp_rev.to_dict(\"records\"):\n",
    "            dt = dateutil.parser.parse(row['review_date'])\n",
    "            if dt.year == today.year - 1:\n",
    "                year = dt.year\n",
    "                if dt.month == i:\n",
    "                    #if row['sentiment_type'].strip() == 'negative':\n",
    "                     #   cnt_n = cnt_n+1\n",
    "                    #else:\n",
    "                      #  cnt_p =cnt_p+1\n",
    "                    cnt = cnt +1\n",
    "        if cnt > 0 :\n",
    "            row2 = [company,cnt,i,year]#,float(cnt_p/float(cnt))*100]\n",
    "            out_t.append(row2)\n",
    "out_t=pd.DataFrame(out_t)        \n",
    "out_t.columns=colum"
   ]
  },
  {
   "cell_type": "code",
   "execution_count": 14,
   "metadata": {},
   "outputs": [],
   "source": [
    "out_t.to_csv(\"1_task_12_months_review_brand_wise_haircare.csv\",index=False)"
   ]
  },
  {
   "cell_type": "code",
   "execution_count": 15,
   "metadata": {},
   "outputs": [],
   "source": [
    "out_prod_tree_date = tree.merge(mapped_comp_source, left_on='source_review_id', right_on='source_review_id')"
   ]
  },
  {
   "cell_type": "code",
   "execution_count": 17,
   "metadata": {},
   "outputs": [],
   "source": [
    "\n",
    "del out_prod_tree_date['source_product_id_y']"
   ]
  },
  {
   "cell_type": "code",
   "execution_count": 18,
   "metadata": {},
   "outputs": [],
   "source": [
    "out_prod_tree_date=out_prod_tree_date.drop_duplicates()"
   ]
  },
  {
   "cell_type": "code",
   "execution_count": 19,
   "metadata": {},
   "outputs": [
    {
     "data": {
      "text/plain": [
       "12345"
      ]
     },
     "execution_count": 19,
     "metadata": {},
     "output_type": "execute_result"
    }
   ],
   "source": [
    "len(out_prod_tree_date.index)"
   ]
  },
  {
   "cell_type": "code",
   "execution_count": 20,
   "metadata": {},
   "outputs": [
    {
     "name": "stdout",
     "output_type": "stream",
     "text": [
      "dove\n",
      "81.4516129032\n",
      "84.5454545455\n",
      "77.6536312849\n",
      "77.304964539\n",
      "71.1462450593\n",
      "64.1666666667\n",
      "70.5882352941\n",
      "80.7511737089\n",
      "78.3171521036\n",
      "70.6713780919\n",
      "73.9361702128\n",
      "76.8888888889\n",
      "loreal\n",
      "64.4230769231\n",
      "60.9195402299\n",
      "55.2173913043\n",
      "58.8785046729\n",
      "70.5014749263\n",
      "60.0\n",
      "54.5893719807\n",
      "47.0119521912\n",
      "62.6288659794\n",
      "51.4905149051\n",
      "55.7432432432\n",
      "72.5\n",
      "pantene\n",
      "80.7692307692\n",
      "84.8214285714\n",
      "64.5161290323\n",
      "76.6666666667\n",
      "73.4042553191\n",
      "60.0\n",
      "79.5454545455\n",
      "71.6216216216\n",
      "79.0960451977\n",
      "80.0925925926\n",
      "73.5294117647\n",
      "84.0\n"
     ]
    }
   ],
   "source": [
    "i=1\n",
    "out_t_sent=[]\n",
    "map_comp_tree = out_prod_tree_date.company.unique()\n",
    "#print map_comp_tree\n",
    "#colu = [\"Brand_name\",\"Trend_Total_Reviews\",\"Month\",\"Year\",\"positive\"]\n",
    "for c in map_comp_tree:\n",
    "    print c\n",
    "    cnt_p = 0\n",
    "    cnt = 0\n",
    "    cnt_n=0\n",
    "    comp_rev = out_prod_tree_date[out_prod_tree_date.company == c]\n",
    "    company = c\n",
    "    for i in range (1,13):\n",
    "        cnt =0\n",
    "        cnt_p =0\n",
    "        cnt_n=0\n",
    "        for row in comp_rev.to_dict(\"records\"):\n",
    "            dt = dateutil.parser.parse(row['review_date'])\n",
    "            if dt.year == today.year - 1:\n",
    "                year = dt.year\n",
    "                if dt.month == i:\n",
    "                    if row['sentiment_type'].strip() == 'negative':\n",
    "                        cnt_n = cnt_n+1\n",
    "                    else:\n",
    "                        cnt_p =cnt_p+1\n",
    "                    cnt = cnt +1\n",
    "      #  print cnt\n",
    "        if cnt > 0 :\n",
    "            pos = (float(cnt_p/float(cnt))*100)\n",
    "            print pos\n",
    "            row2 = [company,cnt,i,year,pos]\n",
    "            out_t_sent.append(row2)\n",
    "out_t_sent=pd.DataFrame(out_t_sent)        \n",
    "#out_t_sent.columns=colu\n"
   ]
  },
  {
   "cell_type": "code",
   "execution_count": 21,
   "metadata": {},
   "outputs": [],
   "source": [
    "colu = [\"Brand_name\",\"TotalPositive__Reviews\",\"Month\",\"Year\",\"positive\"]\n",
    "out_t_sent.columns=colu\n",
    "out_t_sent.to_csv(\"2_positive_percentage_fragmentswise_for_last_year_haircare.csv\",index=False)"
   ]
  },
  {
   "cell_type": "code",
   "execution_count": null,
   "metadata": {},
   "outputs": [],
   "source": []
  },
  {
   "cell_type": "markdown",
   "metadata": {},
   "source": []
  },
  {
   "cell_type": "code",
   "execution_count": 22,
   "metadata": {},
   "outputs": [],
   "source": [
    "i=1\n",
    "out_t_sent_rank=[]\n",
    "map_comp_tree = out_prod_tree_date.company.unique()\n",
    "comp_map_source = out_prod_tree_date.source.unique()\n",
    "#print map_comp_tree\n",
    "colu = [\"Brand_name\",\"Total_positive_fragments\",\"Total_review_fragments\",\"Total_positive percentage\"]\n",
    "for s in comp_map_source:\n",
    "    if s == 1:\n",
    "        source = \"Flipkart\"\n",
    "        total_pos = \"Flipkart_total_positive\"\n",
    "    if s == 3:\n",
    "        source = \"Amazon\"\n",
    "        total_pos = \"Amazon_total_positive\"\n",
    "    if s == 5:\n",
    "        source = \"Nyka\"\n",
    "        total_pos = \"Nyka_total_positive\"\n",
    "\n",
    "    colu.append(total_pos)\n",
    "    colu.append(source)\n",
    "\n",
    "\n",
    "for c in map_comp_tree:\n",
    "    comp_rev = out_prod_tree_date[out_prod_tree_date.company == c]\n",
    "    total = len(comp_rev.index)\n",
    "    #comp_rev_source = comp_rev.source_y.unique()\n",
    "    comp_rev_pos = comp_rev[comp_rev.sentiment_type == 'positive']\n",
    "    total_pos = len(comp_rev_pos.index)\n",
    "    row2 = [c,total_pos,total,float(total_pos/float(total))]\n",
    "    for s in comp_map_source:\n",
    "        comp_rev_source_1 = comp_rev[comp_rev.source == s]\n",
    "        total_source = len(comp_rev_source_1.index)\n",
    "        if total_pos == 0:\n",
    "            comp_rev_pos_source = comp_rev_source_1[comp_rev_source_1.sentiment_type == 'positive']\n",
    "            total_pos_source = len(comp_rev_pos_source.index)\n",
    "            row2.append(total_pos)\n",
    "            row2.append(0)\n",
    "        else:    \n",
    "            comp_rev_pos_source = comp_rev_source_1[comp_rev_source_1.sentiment_type == 'positive']\n",
    "            total_pos_source = len(comp_rev_pos_source.index)\n",
    "            row2.append(total_pos_source)\n",
    "            row2.append(float(total_pos_source/float(total_pos))*100)\n",
    "    out_t_sent_rank.append(row2)\n",
    "out_t_sent_rank=pd.DataFrame(out_t_sent_rank)        \n",
    "out_t_sent_rank.columns=colu\n",
    "out_t_sent_rank.to_csv(\"4_task_positive_percentage_haircare_source_wise.csv\",index=False)"
   ]
  },
  {
   "cell_type": "code",
   "execution_count": 86,
   "metadata": {},
   "outputs": [],
   "source": []
  },
  {
   "cell_type": "code",
   "execution_count": 23,
   "metadata": {},
   "outputs": [
    {
     "data": {
      "text/plain": [
       "8485"
      ]
     },
     "execution_count": 23,
     "metadata": {},
     "output_type": "execute_result"
    }
   ],
   "source": [
    "out_t_sent_rank['Total_positive_fragments'].sum()"
   ]
  },
  {
   "cell_type": "code",
   "execution_count": null,
   "metadata": {},
   "outputs": [],
   "source": []
  },
  {
   "cell_type": "code",
   "execution_count": null,
   "metadata": {},
   "outputs": [],
   "source": []
  }
 ],
 "metadata": {
  "kernelspec": {
   "display_name": "Python 2",
   "language": "python",
   "name": "python2"
  },
  "language_info": {
   "codemirror_mode": {
    "name": "ipython",
    "version": 2
   },
   "file_extension": ".py",
   "mimetype": "text/x-python",
   "name": "python",
   "nbconvert_exporter": "python",
   "pygments_lexer": "ipython2",
   "version": "2.7.10"
  }
 },
 "nbformat": 4,
 "nbformat_minor": 2
}
