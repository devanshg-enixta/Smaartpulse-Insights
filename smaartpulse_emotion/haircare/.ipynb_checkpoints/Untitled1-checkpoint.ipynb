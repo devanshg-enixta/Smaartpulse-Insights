{
 "cells": [
  {
   "cell_type": "code",
   "execution_count": 1,
   "metadata": {},
   "outputs": [],
   "source": [
    "import pandas as pd\n"
   ]
  },
  {
   "cell_type": "code",
   "execution_count": 2,
   "metadata": {},
   "outputs": [],
   "source": [
    "source = pd.read_csv(\"source_reviews_shampoo_25-1-2018_correct_sreeni.txt\",sep='~')\n",
    "tree = pd.read_csv(\"treemap_outputfile_mapped_2018-1-29_shampoo_sentiment_hul.txt\",sep='~')"
   ]
  },
  {
   "cell_type": "code",
   "execution_count": 3,
   "metadata": {},
   "outputs": [],
   "source": [
    "out_prod=[]\n",
    "for row in source.to_dict(\"records\"):\n",
    "    row['product_name'] = row['product_name'].replace('l-oreal',\"loreal\").replace('l-a-girl',\"l_a_girl\").replace('7-heaven',\"7_heaven\").replace(\" \",\"-\").lower()\n",
    "    x = row['product_name'].split('-', 1)\n",
    "    #x = x.split(' ')\n",
    "    row['company'] = x[0].lower()\n",
    "    out_prod.append(row)\n",
    "mapped_comp_source=pd.DataFrame(out_prod)"
   ]
  },
  {
   "cell_type": "code",
   "execution_count": 4,
   "metadata": {},
   "outputs": [],
   "source": [
    "mapped_comp = mapped_comp_source.company.unique()"
   ]
  },
  {
   "cell_type": "code",
   "execution_count": null,
   "metadata": {},
   "outputs": [],
   "source": []
  },
  {
   "cell_type": "code",
   "execution_count": 5,
   "metadata": {},
   "outputs": [
    {
     "name": "stdout",
     "output_type": "stream",
     "text": [
      "dove\n",
      "l'oreal\n",
      "pantene\n",
      "loreal\n"
     ]
    }
   ],
   "source": [
    "import calendar\n",
    "import datetime\n",
    "import dateutil\n",
    "today = datetime.datetime.now()\n",
    "i=1\n",
    "out_t=[]\n",
    "colum = [\"Brand_name\",\"Trend_Total_Reviews\",\"Month\",\"Year\"]\n",
    "for c in mapped_comp:\n",
    "    print c\n",
    "    cnt_p = 0\n",
    "    cnt = 0\n",
    "    cnt_n=0\n",
    "    comp_rev = mapped_comp_source[mapped_comp_source.company == c]\n",
    "    company = c\n",
    "    for i in range (1,13):\n",
    "        cnt =0\n",
    "#        cnt_p =0\n",
    " #       cnt_n=0\n",
    "        for row in comp_rev.to_dict(\"records\"):\n",
    "            dt = dateutil.parser.parse(row['review_date'])\n",
    "            if dt.year == today.year - 1:\n",
    "                year = dt.year\n",
    "                if dt.month == i:\n",
    "                    #if row['sentiment_type'].strip() == 'negative':\n",
    "                     #   cnt_n = cnt_n+1\n",
    "                    #else:\n",
    "                      #  cnt_p =cnt_p+1\n",
    "                    cnt = cnt +1\n",
    "        if cnt > 0 :\n",
    "            row2 = [company,cnt,i,year]#,float(cnt_p/float(cnt))*100]\n",
    "            out_t.append(row2)\n",
    "out_t=pd.DataFrame(out_t)        \n",
    "out_t.columns=colum"
   ]
  },
  {
   "cell_type": "code",
   "execution_count": 6,
   "metadata": {},
   "outputs": [],
   "source": [
    "out_t.to_csv(\"1_task_12_months_review_brand_wise_haircare.csv\",index=False)"
   ]
  },
  {
   "cell_type": "code",
   "execution_count": null,
   "metadata": {},
   "outputs": [],
   "source": [
    "out_prod_date=[]\n",
    "rev_id = mapped_comp_source.source_review_id.unique()\n",
    "for ids in rev_id:\n",
    "    tree_map = tree[tree.source_review_id == ids ]\n",
    "    org = mapped_comp_source[mapped_comp_source.source_review_id == ids ] \n",
    "    for row1 in org.to_dict(\"records\"):\n",
    "        for row in tree.to_dict(\"records\"):\n",
    "            row['review_date'] = row1['review_date']\n",
    "            row['company'] = row1['company']\n",
    "            out_prod_date.append(row)\n",
    "out_prod_date=pd.DataFrame(out_prod_date)"
   ]
  },
  {
   "cell_type": "code",
   "execution_count": null,
   "metadata": {},
   "outputs": [],
   "source": [
    "i=1\n",
    "out_t_sent=[]\n",
    "map_comp_tree = out_prod_date.company.unique()\n",
    "colum = [\"Brand_name\",\"Trend_Total_Reviews\",\"Month\",\"Year\",\"%positive\"]\n",
    "for c in out_prod_date:\n",
    "    print c\n",
    "    cnt_p = 0\n",
    "    cnt = 0\n",
    "    cnt_n=0\n",
    "    comp_rev = out_prod_date[out_prod_date.company == c]\n",
    "    company = c\n",
    "    for i in range (1,13):\n",
    "        cnt =0\n",
    "        cnt_p =0\n",
    "        cnt_n=0\n",
    "        for row in comp_rev.to_dict(\"records\"):\n",
    "            dt = dateutil.parser.parse(row['review_date'])\n",
    "            if dt.year == today.year - 1:\n",
    "                year = dt.year\n",
    "                if dt.month == i:\n",
    "                    if row['sentiment_type'].strip() == 'negative':\n",
    "                        cnt_n = cnt_n+1\n",
    "                    else:\n",
    "                        cnt_p =cnt_p+1\n",
    "                    cnt = cnt +1\n",
    "        if cnt > 0 :\n",
    "            row2 = [company,cnt,i,year,float(cnt_p/float(cnt))*100]\n",
    "            out_t_sent.append(row2)\n",
    "out_t_sent=pd.DataFrame(out_t)        \n",
    "out_t_sent.columns=colum"
   ]
  },
  {
   "cell_type": "markdown",
   "metadata": {},
   "source": []
  },
  {
   "cell_type": "code",
   "execution_count": null,
   "metadata": {},
   "outputs": [],
   "source": [
    "out_prod_date"
   ]
  },
  {
   "cell_type": "code",
   "execution_count": null,
   "metadata": {},
   "outputs": [],
   "source": []
  },
  {
   "cell_type": "code",
   "execution_count": null,
   "metadata": {},
   "outputs": [],
   "source": []
  }
 ],
 "metadata": {
  "kernelspec": {
   "display_name": "Python 2",
   "language": "python",
   "name": "python2"
  },
  "language_info": {
   "codemirror_mode": {
    "name": "ipython",
    "version": 2
   },
   "file_extension": ".py",
   "mimetype": "text/x-python",
   "name": "python",
   "nbconvert_exporter": "python",
   "pygments_lexer": "ipython2",
   "version": "2.7.10"
  }
 },
 "nbformat": 4,
 "nbformat_minor": 2
}
