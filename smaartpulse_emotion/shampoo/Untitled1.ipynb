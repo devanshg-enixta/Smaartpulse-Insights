{
 "cells": [
  {
   "cell_type": "code",
   "execution_count": 2,
   "metadata": {},
   "outputs": [],
   "source": [
    "import pandas as pd\n"
   ]
  },
  {
   "cell_type": "code",
   "execution_count": 3,
   "metadata": {},
   "outputs": [],
   "source": [
    "source = pd.read_csv(\"source_reviews_outputfile_2018-2-19_shampoo_sentiment_hul.txt\",sep='~')\n",
    "tree = pd.read_csv(\"treemap_outputfile_mapped_2018-2-19_shampoo_sentiment_hul.txt\",sep='~')\n",
    "mapp = pd.read_csv(\"shampoo_mapp.csv\")"
   ]
  },
  {
   "cell_type": "raw",
   "metadata": {},
   "source": [
    "len(source.index)"
   ]
  },
  {
   "cell_type": "code",
   "execution_count": 4,
   "metadata": {},
   "outputs": [],
   "source": [
    "source=source.drop_duplicates()\n",
    "del source['product_id']"
   ]
  },
  {
   "cell_type": "code",
   "execution_count": 5,
   "metadata": {},
   "outputs": [
    {
     "data": {
      "text/plain": [
       "59705"
      ]
     },
     "execution_count": 5,
     "metadata": {},
     "output_type": "execute_result"
    }
   ],
   "source": [
    "len(tree.index)"
   ]
  },
  {
   "cell_type": "code",
   "execution_count": 6,
   "metadata": {},
   "outputs": [],
   "source": [
    "tree=tree.drop_duplicates()"
   ]
  },
  {
   "cell_type": "code",
   "execution_count": 7,
   "metadata": {},
   "outputs": [],
   "source": [
    "map_source = source.merge(mapp, on='source_product_id')\n",
    "del map_source['product_id']\n",
    "#out_prod_tree_date = tree.merge(mapp, on='source_product_id')"
   ]
  },
  {
   "cell_type": "code",
   "execution_count": 8,
   "metadata": {},
   "outputs": [],
   "source": [
    "mapped_comp = (map_source.brand_name.unique())\n",
    "\n",
    "\n",
    "\n"
   ]
  },
  {
   "cell_type": "code",
   "execution_count": 131,
   "metadata": {},
   "outputs": [],
   "source": [
    "x=[]\n",
    "for loc in mapped_comp:\n",
    "    loc = str(loc)   #here 'nan' is converted to a string to compare with if\n",
    "    if loc != 'nan':\n",
    "        x.append(loc)\n",
    "mapped_comp=x"
   ]
  },
  {
   "cell_type": "code",
   "execution_count": 9,
   "metadata": {},
   "outputs": [
    {
     "name": "stdout",
     "output_type": "stream",
     "text": [
      "Head & Shoulders\n",
      "Pantene\n",
      "l'oreal\n",
      "Dove\n"
     ]
    }
   ],
   "source": [
    "import calendar\n",
    "import datetime\n",
    "import dateutil\n",
    "today = datetime.datetime.now()\n",
    "i=1\n",
    "out_t=[]\n",
    "colum = [\"Brand_name\",\"Total_Number_of_Reviews\",\"Month\",\"Year\"]\n",
    "for c in mapped_comp:\n",
    "    print c\n",
    "    cnt_p = 0\n",
    "    cnt = 0\n",
    "    cnt_n=0\n",
    "    comp_rev = map_source[map_source.brand_name == c]\n",
    "    company = c\n",
    "    for i in range (1,13):\n",
    "        cnt =0\n",
    "#        cnt_p =0\n",
    " #       cnt_n=0\n",
    "        for row in comp_rev.to_dict(\"records\"):\n",
    "            #print (row)\n",
    "            dt = dateutil.parser.parse(row['review_date'])\n",
    "            if dt.year == today.year - 1:\n",
    "                year = dt.year\n",
    "                if dt.month == i:\n",
    "                    #if row['sentiment_type'].strip() == 'negative':\n",
    "                     #   cnt_n = cnt_n+1\n",
    "                    #else:\n",
    "                      #  cnt_p =cnt_p+1\n",
    "                    cnt = cnt +1\n",
    "        if cnt > 0 :\n",
    "            row2 = [company,cnt,i,year]#,float(cnt_p/float(cnt))*100]\n",
    "            out_t.append(row2)\n",
    "out_t=pd.DataFrame(out_t)        \n",
    "out_t.columns=colum"
   ]
  },
  {
   "cell_type": "code",
   "execution_count": 133,
   "metadata": {},
   "outputs": [],
   "source": [
    "out_t.to_csv(\"1_task_12_months_review_brand_wise_shampoo.csv\",index=False)"
   ]
  },
  {
   "cell_type": "code",
   "execution_count": 10,
   "metadata": {},
   "outputs": [],
   "source": [
    "out_prod_tree_date = tree.merge(map_source[['source_review_id','product_name','brand_name','review_date']], left_on='source_review_id', right_on='source_review_id',how='outer')"
   ]
  },
  {
   "cell_type": "code",
   "execution_count": 11,
   "metadata": {},
   "outputs": [],
   "source": [
    "out_prod_tree_date=out_prod_tree_date.drop_duplicates()"
   ]
  },
  {
   "cell_type": "code",
   "execution_count": 12,
   "metadata": {},
   "outputs": [],
   "source": [
    "out_prod_tree_date.dropna(subset=['brand_name'],inplace = True)"
   ]
  },
  {
   "cell_type": "code",
   "execution_count": 13,
   "metadata": {},
   "outputs": [
    {
     "data": {
      "text/plain": [
       "23711"
      ]
     },
     "execution_count": 13,
     "metadata": {},
     "output_type": "execute_result"
    }
   ],
   "source": [
    "len(out_prod_tree_date.index)"
   ]
  },
  {
   "cell_type": "code",
   "execution_count": 14,
   "metadata": {},
   "outputs": [
    {
     "name": "stdout",
     "output_type": "stream",
     "text": [
      "Head & Shoulders\n",
      "Pantene\n",
      "l'oreal\n",
      "Dove\n"
     ]
    }
   ],
   "source": [
    "i=1\n",
    "out_t_sent=[]\n",
    "map_comp_tree = out_prod_tree_date.brand_name.unique()\n",
    "x=[]\n",
    "for loc in map_comp_tree:\n",
    "    loc = str(loc)   #here 'nan' is converted to a string to compare with if\n",
    "    if loc != 'nan':\n",
    "        x.append(loc)\n",
    "map_comp_tree=x\n",
    "#print map_comp_tree\n",
    "#colu = [\"Brand_name\",\"Trend_Total_Reviews\",\"Month\",\"Year\",\"positive\"]\n",
    "for c in map_comp_tree:\n",
    "    print c\n",
    "    cnt_p = 0\n",
    "    cnt = 0\n",
    "    cnt_n=0\n",
    "    comp_rev = out_prod_tree_date[out_prod_tree_date.brand_name == c]\n",
    "    company = c\n",
    "    for i in range (1,13):\n",
    "        cnt =0\n",
    "        cnt_p =0\n",
    "        cnt_n=0\n",
    "        for row in comp_rev.to_dict(\"records\"):\n",
    "            dt = dateutil.parser.parse(row['review_date'])\n",
    "            if dt.year == today.year - 1:\n",
    "                year = dt.year\n",
    "                if dt.month == i:\n",
    "                    if row['sentiment_type'].strip() == 'negative':\n",
    "                        cnt_n = cnt_n+1\n",
    "                    else:\n",
    "                        cnt_p =cnt_p+1\n",
    "                    cnt = cnt +1\n",
    "      #  print cnt\n",
    "        if cnt > 0 :\n",
    "            pos = (float(cnt_p/float(cnt))*100)\n",
    "            #print pos\n",
    "            row2 = [company,cnt,i,year,pos]\n",
    "            out_t_sent.append(row2)\n",
    "out_t_sent=pd.DataFrame(out_t_sent)        \n",
    "#out_t_sent.columns=colu\n"
   ]
  },
  {
   "cell_type": "code",
   "execution_count": 15,
   "metadata": {},
   "outputs": [],
   "source": [
    "colu = [\"Brand_name\",\"TotalPositive__Reviews\",\"Month\",\"Year\",\"positive\"]\n",
    "out_t_sent.columns=colu\n",
    "out_t_sent.to_csv(\"2_positive_percentage_fragmentswise_for_last_year_shampoo.csv\",index=False)"
   ]
  },
  {
   "cell_type": "code",
   "execution_count": 22,
   "metadata": {},
   "outputs": [],
   "source": [
    "out_t_sent_hs = out_t_sent[out_t_sent.Brand_name != \"Pantene\"]"
   ]
  },
  {
   "cell_type": "markdown",
   "metadata": {},
   "source": []
  },
  {
   "cell_type": "code",
   "execution_count": 178,
   "metadata": {},
   "outputs": [],
   "source": [
    "i=1\n",
    "out_t_sent_rank=[]\n",
    "#map_comp_tree = out_prod_tree_date.brand_name.unique()\n",
    "map_comp_tree = out_prod_tree_date.brand_name.unique()\n",
    "x=[]\n",
    "for loc in map_comp_tree:\n",
    "    loc = str(loc)   #here 'nan' is converted to a string to compare with if\n",
    "    if loc != 'nan':\n",
    "        x.append(loc)\n",
    "map_comp_tree=x\n",
    "comp_map_source = out_prod_tree_date.source.unique()\n",
    "#print map_comp_tree\n",
    "colu = [\"Brand_name\",\"Total_positive_fragments\",\"Total_review_fragments\",\"Total_positive percentage\"]\n",
    "for s in comp_map_source:\n",
    "    if s == 1:\n",
    "        source = \"Flipkart\"\n",
    "        total_pos = \"Flipkart_total_positive\"\n",
    "        total_src =\"Flipkart_total_reviews\"\n",
    "    if s == 3:\n",
    "        source = \"Amazon\"\n",
    "        total_pos = \"Amazon_total_positive\"\n",
    "        total_src =\"Amazon_total_reviews\"\n",
    "    if s == 5:\n",
    "        source = \"Nyka\"\n",
    "        total_pos = \"Nyka_total_positive\"\n",
    "        total_src =\"Nyka_total_reviews\"\n",
    "\n",
    "    colu.append(total_pos)\n",
    "    colu.append(source)\n",
    "    colu.append(total_src)\n",
    "\n",
    "\n",
    "for c in map_comp_tree:\n",
    "    comp_rev = out_prod_tree_date[out_prod_tree_date.brand_name == c]\n",
    "    total = len(comp_rev.index)\n",
    "    #comp_rev_source = comp_rev.source_y.unique()\n",
    "    comp_rev_pos = comp_rev[comp_rev.sentiment_type == 'positive']\n",
    "    total_pos = len(comp_rev_pos.index)\n",
    "    if total == 0:\n",
    "        total =1\n",
    "    row2 = [c,total_pos,total,float(total_pos/float(total))]\n",
    "    for s in comp_map_source:\n",
    "        comp_rev_source_1 = comp_rev[comp_rev.source == s]\n",
    "        total_source = len(comp_rev_source_1.index)\n",
    "        if total_source == 0:\n",
    "            comp_rev_pos_source = comp_rev_source_1[comp_rev_source_1.sentiment_type == 'positive']\n",
    "            total_pos_source = len(comp_rev_pos_source.index)\n",
    "            row2.append(total_pos)\n",
    "            row2.append(0)\n",
    "            row2.append(0)\n",
    "        else:    \n",
    "            comp_rev_pos_source = comp_rev_source_1[comp_rev_source_1.sentiment_type == 'positive']\n",
    "            total_pos_source = len(comp_rev_pos_source.index)\n",
    "            row2.append(total_pos_source)\n",
    "            row2.append(float(total_pos_source/float(total_source))*100)\n",
    "            row2.append((total_source))\n",
    "    out_t_sent_rank.append(row2)\n",
    "out_t_sent_rank=pd.DataFrame(out_t_sent_rank)        \n",
    "out_t_sent_rank.columns=colu\n",
    "out_t_sent_rank.dropna(subset=['Brand_name'],inplace = True)\n",
    "out_t_sent_rank.to_csv(\"4_task_positive_percentage_shampoo_source_wise2.csv\",index=False)"
   ]
  },
  {
   "cell_type": "code",
   "execution_count": 162,
   "metadata": {},
   "outputs": [],
   "source": [
    "out_t_sent_rank.to_csv(\"4_task_positive_percentage_lipstick_source_rank.csv\",index=False)"
   ]
  },
  {
   "cell_type": "code",
   "execution_count": 92,
   "metadata": {},
   "outputs": [
    {
     "data": {
      "text/plain": [
       "85088"
      ]
     },
     "execution_count": 92,
     "metadata": {},
     "output_type": "execute_result"
    }
   ],
   "source": [
    "out_t_sent_rank['Total_positive_fragments'].sum()"
   ]
  },
  {
   "cell_type": "code",
   "execution_count": 179,
   "metadata": {},
   "outputs": [
    {
     "data": {
      "text/plain": [
       "array(['Head & Shoulders', 'Pantene', \"l'oreal\", 'Dove'], dtype=object)"
      ]
     },
     "execution_count": 179,
     "metadata": {},
     "output_type": "execute_result"
    }
   ],
   "source": [
    "(out_prod_tree_date.brand_name.unique())"
   ]
  },
  {
   "cell_type": "code",
   "execution_count": 30,
   "metadata": {},
   "outputs": [
    {
     "data": {
      "text/plain": [
       "array(['Head & Shoulders', 'Pantene'], dtype=object)"
      ]
     },
     "execution_count": 30,
     "metadata": {},
     "output_type": "execute_result"
    }
   ],
   "source": [
    "out_t_sent_pg.Brand_name.unique()"
   ]
  },
  {
   "cell_type": "code",
   "execution_count": 31,
   "metadata": {},
   "outputs": [],
   "source": [
    "\n",
    "\n",
    "out_t_sent_pg.to_csv(\"pg.csv\",index=False)"
   ]
  },
  {
   "cell_type": "code",
   "execution_count": 29,
   "metadata": {},
   "outputs": [
    {
     "data": {
      "text/html": [
       "<div>\n",
       "<style scoped>\n",
       "    .dataframe tbody tr th:only-of-type {\n",
       "        vertical-align: middle;\n",
       "    }\n",
       "\n",
       "    .dataframe tbody tr th {\n",
       "        vertical-align: top;\n",
       "    }\n",
       "\n",
       "    .dataframe thead th {\n",
       "        text-align: right;\n",
       "    }\n",
       "</style>\n",
       "<table border=\"1\" class=\"dataframe\">\n",
       "  <thead>\n",
       "    <tr style=\"text-align: right;\">\n",
       "      <th></th>\n",
       "      <th>Brand_name</th>\n",
       "      <th>TotalPositive__Reviews</th>\n",
       "      <th>Month</th>\n",
       "      <th>Year</th>\n",
       "      <th>positive</th>\n",
       "    </tr>\n",
       "  </thead>\n",
       "  <tbody>\n",
       "    <tr>\n",
       "      <th>0</th>\n",
       "      <td>Head &amp; Shoulders</td>\n",
       "      <td>36</td>\n",
       "      <td>1</td>\n",
       "      <td>2017</td>\n",
       "      <td>86.111111</td>\n",
       "    </tr>\n",
       "    <tr>\n",
       "      <th>1</th>\n",
       "      <td>Head &amp; Shoulders</td>\n",
       "      <td>75</td>\n",
       "      <td>2</td>\n",
       "      <td>2017</td>\n",
       "      <td>78.666667</td>\n",
       "    </tr>\n",
       "    <tr>\n",
       "      <th>2</th>\n",
       "      <td>Head &amp; Shoulders</td>\n",
       "      <td>99</td>\n",
       "      <td>3</td>\n",
       "      <td>2017</td>\n",
       "      <td>69.696970</td>\n",
       "    </tr>\n",
       "    <tr>\n",
       "      <th>3</th>\n",
       "      <td>Head &amp; Shoulders</td>\n",
       "      <td>56</td>\n",
       "      <td>4</td>\n",
       "      <td>2017</td>\n",
       "      <td>80.357143</td>\n",
       "    </tr>\n",
       "    <tr>\n",
       "      <th>4</th>\n",
       "      <td>Head &amp; Shoulders</td>\n",
       "      <td>143</td>\n",
       "      <td>5</td>\n",
       "      <td>2017</td>\n",
       "      <td>72.727273</td>\n",
       "    </tr>\n",
       "    <tr>\n",
       "      <th>5</th>\n",
       "      <td>Head &amp; Shoulders</td>\n",
       "      <td>92</td>\n",
       "      <td>6</td>\n",
       "      <td>2017</td>\n",
       "      <td>79.347826</td>\n",
       "    </tr>\n",
       "    <tr>\n",
       "      <th>6</th>\n",
       "      <td>Head &amp; Shoulders</td>\n",
       "      <td>84</td>\n",
       "      <td>7</td>\n",
       "      <td>2017</td>\n",
       "      <td>72.619048</td>\n",
       "    </tr>\n",
       "    <tr>\n",
       "      <th>7</th>\n",
       "      <td>Head &amp; Shoulders</td>\n",
       "      <td>95</td>\n",
       "      <td>8</td>\n",
       "      <td>2017</td>\n",
       "      <td>62.105263</td>\n",
       "    </tr>\n",
       "    <tr>\n",
       "      <th>8</th>\n",
       "      <td>Head &amp; Shoulders</td>\n",
       "      <td>200</td>\n",
       "      <td>9</td>\n",
       "      <td>2017</td>\n",
       "      <td>72.000000</td>\n",
       "    </tr>\n",
       "    <tr>\n",
       "      <th>9</th>\n",
       "      <td>Head &amp; Shoulders</td>\n",
       "      <td>75</td>\n",
       "      <td>10</td>\n",
       "      <td>2017</td>\n",
       "      <td>73.333333</td>\n",
       "    </tr>\n",
       "    <tr>\n",
       "      <th>10</th>\n",
       "      <td>Head &amp; Shoulders</td>\n",
       "      <td>48</td>\n",
       "      <td>11</td>\n",
       "      <td>2017</td>\n",
       "      <td>89.583333</td>\n",
       "    </tr>\n",
       "    <tr>\n",
       "      <th>11</th>\n",
       "      <td>Head &amp; Shoulders</td>\n",
       "      <td>120</td>\n",
       "      <td>12</td>\n",
       "      <td>2017</td>\n",
       "      <td>70.000000</td>\n",
       "    </tr>\n",
       "    <tr>\n",
       "      <th>12</th>\n",
       "      <td>Pantene</td>\n",
       "      <td>129</td>\n",
       "      <td>1</td>\n",
       "      <td>2017</td>\n",
       "      <td>82.170543</td>\n",
       "    </tr>\n",
       "    <tr>\n",
       "      <th>13</th>\n",
       "      <td>Pantene</td>\n",
       "      <td>119</td>\n",
       "      <td>2</td>\n",
       "      <td>2017</td>\n",
       "      <td>85.714286</td>\n",
       "    </tr>\n",
       "    <tr>\n",
       "      <th>14</th>\n",
       "      <td>Pantene</td>\n",
       "      <td>63</td>\n",
       "      <td>3</td>\n",
       "      <td>2017</td>\n",
       "      <td>68.253968</td>\n",
       "    </tr>\n",
       "    <tr>\n",
       "      <th>15</th>\n",
       "      <td>Pantene</td>\n",
       "      <td>29</td>\n",
       "      <td>4</td>\n",
       "      <td>2017</td>\n",
       "      <td>72.413793</td>\n",
       "    </tr>\n",
       "    <tr>\n",
       "      <th>16</th>\n",
       "      <td>Pantene</td>\n",
       "      <td>109</td>\n",
       "      <td>5</td>\n",
       "      <td>2017</td>\n",
       "      <td>69.724771</td>\n",
       "    </tr>\n",
       "    <tr>\n",
       "      <th>17</th>\n",
       "      <td>Pantene</td>\n",
       "      <td>58</td>\n",
       "      <td>6</td>\n",
       "      <td>2017</td>\n",
       "      <td>56.896552</td>\n",
       "    </tr>\n",
       "    <tr>\n",
       "      <th>18</th>\n",
       "      <td>Pantene</td>\n",
       "      <td>88</td>\n",
       "      <td>7</td>\n",
       "      <td>2017</td>\n",
       "      <td>79.545455</td>\n",
       "    </tr>\n",
       "    <tr>\n",
       "      <th>19</th>\n",
       "      <td>Pantene</td>\n",
       "      <td>89</td>\n",
       "      <td>8</td>\n",
       "      <td>2017</td>\n",
       "      <td>71.910112</td>\n",
       "    </tr>\n",
       "    <tr>\n",
       "      <th>20</th>\n",
       "      <td>Pantene</td>\n",
       "      <td>560</td>\n",
       "      <td>9</td>\n",
       "      <td>2017</td>\n",
       "      <td>84.107143</td>\n",
       "    </tr>\n",
       "    <tr>\n",
       "      <th>21</th>\n",
       "      <td>Pantene</td>\n",
       "      <td>320</td>\n",
       "      <td>10</td>\n",
       "      <td>2017</td>\n",
       "      <td>81.250000</td>\n",
       "    </tr>\n",
       "    <tr>\n",
       "      <th>22</th>\n",
       "      <td>Pantene</td>\n",
       "      <td>38</td>\n",
       "      <td>11</td>\n",
       "      <td>2017</td>\n",
       "      <td>76.315789</td>\n",
       "    </tr>\n",
       "    <tr>\n",
       "      <th>23</th>\n",
       "      <td>Pantene</td>\n",
       "      <td>311</td>\n",
       "      <td>12</td>\n",
       "      <td>2017</td>\n",
       "      <td>76.527331</td>\n",
       "    </tr>\n",
       "  </tbody>\n",
       "</table>\n",
       "</div>"
      ],
      "text/plain": [
       "          Brand_name  TotalPositive__Reviews  Month  Year   positive\n",
       "0   Head & Shoulders                      36      1  2017  86.111111\n",
       "1   Head & Shoulders                      75      2  2017  78.666667\n",
       "2   Head & Shoulders                      99      3  2017  69.696970\n",
       "3   Head & Shoulders                      56      4  2017  80.357143\n",
       "4   Head & Shoulders                     143      5  2017  72.727273\n",
       "5   Head & Shoulders                      92      6  2017  79.347826\n",
       "6   Head & Shoulders                      84      7  2017  72.619048\n",
       "7   Head & Shoulders                      95      8  2017  62.105263\n",
       "8   Head & Shoulders                     200      9  2017  72.000000\n",
       "9   Head & Shoulders                      75     10  2017  73.333333\n",
       "10  Head & Shoulders                      48     11  2017  89.583333\n",
       "11  Head & Shoulders                     120     12  2017  70.000000\n",
       "12           Pantene                     129      1  2017  82.170543\n",
       "13           Pantene                     119      2  2017  85.714286\n",
       "14           Pantene                      63      3  2017  68.253968\n",
       "15           Pantene                      29      4  2017  72.413793\n",
       "16           Pantene                     109      5  2017  69.724771\n",
       "17           Pantene                      58      6  2017  56.896552\n",
       "18           Pantene                      88      7  2017  79.545455\n",
       "19           Pantene                      89      8  2017  71.910112\n",
       "20           Pantene                     560      9  2017  84.107143\n",
       "21           Pantene                     320     10  2017  81.250000\n",
       "22           Pantene                      38     11  2017  76.315789\n",
       "23           Pantene                     311     12  2017  76.527331"
      ]
     },
     "execution_count": 29,
     "metadata": {},
     "output_type": "execute_result"
    }
   ],
   "source": [
    "\n",
    "out_t_sent_pg"
   ]
  },
  {
   "cell_type": "code",
   "execution_count": null,
   "metadata": {},
   "outputs": [],
   "source": [
    "\n"
   ]
  },
  {
   "cell_type": "code",
   "execution_count": 27,
   "metadata": {},
   "outputs": [],
   "source": [
    "out_t_sent_pg = out_t_sent[out_t_sent.Brand_name != \"Dove\"  ]"
   ]
  },
  {
   "cell_type": "code",
   "execution_count": 28,
   "metadata": {},
   "outputs": [],
   "source": [
    "out_t_sent_pg = out_t_sent_pg[ out_t_sent_pg.Brand_name != \"l'oreal\"]"
   ]
  },
  {
   "cell_type": "code",
   "execution_count": null,
   "metadata": {},
   "outputs": [],
   "source": []
  }
 ],
 "metadata": {
  "kernelspec": {
   "display_name": "Python 2",
   "language": "python",
   "name": "python2"
  },
  "language_info": {
   "codemirror_mode": {
    "name": "ipython",
    "version": 2
   },
   "file_extension": ".py",
   "mimetype": "text/x-python",
   "name": "python",
   "nbconvert_exporter": "python",
   "pygments_lexer": "ipython2",
   "version": "2.7.10"
  }
 },
 "nbformat": 4,
 "nbformat_minor": 2
}
