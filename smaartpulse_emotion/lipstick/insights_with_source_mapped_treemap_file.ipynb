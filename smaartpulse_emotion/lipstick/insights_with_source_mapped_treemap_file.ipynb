{
 "cells": [
  {
   "cell_type": "code",
   "execution_count": 134,
   "metadata": {},
   "outputs": [],
   "source": [
    "import pandas as pd\n"
   ]
  },
  {
   "cell_type": "code",
   "execution_count": 135,
   "metadata": {},
   "outputs": [],
   "source": [
    "source = pd.read_csv(\"lipsticks_source_reviews_new_19-1-2018.txt\",sep='~')\n",
    "tree = pd.read_csv(\"treemap_outputfile_mapped_2018-1-25_lipsticks_sentiment_hul.txt\",sep='~')"
   ]
  },
  {
   "cell_type": "code",
   "execution_count": 136,
   "metadata": {},
   "outputs": [],
   "source": [
    "source=source.drop_duplicates()"
   ]
  },
  {
   "cell_type": "code",
   "execution_count": 137,
   "metadata": {},
   "outputs": [],
   "source": [
    "tree = tree[tree.aspect!=' all ']"
   ]
  },
  {
   "cell_type": "code",
   "execution_count": 138,
   "metadata": {},
   "outputs": [
    {
     "data": {
      "text/plain": [
       "array([' ease-of-usage ', ' reliability ', ' effect-on-skin ',\n",
       "       ' service ', ' durability ', ' vfm ', ' style '], dtype=object)"
      ]
     },
     "execution_count": 138,
     "metadata": {},
     "output_type": "execute_result"
    }
   ],
   "source": [
    "tree.aspect.unique()"
   ]
  },
  {
   "cell_type": "code",
   "execution_count": 139,
   "metadata": {},
   "outputs": [],
   "source": [
    "out_prod=[]\n",
    "for row in source.to_dict(\"records\"):\n",
    "    row['product_name'] = row['product_name'].lower()\n",
    "    row['product_name'] = row['product_name'].replace('maybeline',\"maybelline\").replace('l-oreal',\"loreal\").replace('e-l-f',\"elf\").replace('v-color',\"\").replace('m-n-mn',\"mn\").replace('m-a-c',\"mac\").replace('k-veda',\"KVeda\").replace('l-a-girl',\"l_a_girl\").replace('7-heaven',\"7_heaven\").replace('7heavens',\"7_heaven\").replace('7-heavens',\"7_heaven\").replace('c-a-l-los-angeles',\"c_a_l_los_angeles\").replace('c-l-los-angeles',\"c_a_l_los_angeles\").replace(\" \",\"-\").lower()\n",
    "    x = row['product_name'].split('-', 1)\n",
    "    #x = x.split(' ')\n",
    "    row['company'] = x[0].lower()\n",
    "    out_prod.append(row)\n",
    "mapped_comp_source=pd.DataFrame(out_prod)"
   ]
  },
  {
   "cell_type": "code",
   "execution_count": 140,
   "metadata": {},
   "outputs": [],
   "source": [
    "mapped_comp = mapped_comp_source.company.unique()\n",
    "#mapped_comp"
   ]
  },
  {
   "cell_type": "code",
   "execution_count": 141,
   "metadata": {},
   "outputs": [
    {
     "data": {
      "text/plain": [
       "array(['7 Aug, 2015', '23 Jun, 2015', '13 Sep, 2016', '2016-03-30',\n",
       "       '2016-08-06'], dtype=object)"
      ]
     },
     "execution_count": 141,
     "metadata": {},
     "output_type": "execute_result"
    }
   ],
   "source": [
    "test = mapped_comp_source[mapped_comp_source.company == 'clinique']\n",
    "test.review_date.unique()"
   ]
  },
  {
   "cell_type": "code",
   "execution_count": 142,
   "metadata": {},
   "outputs": [
    {
     "data": {
      "text/plain": [
       "Timestamp('2016-08-06 00:00:00')"
      ]
     },
     "execution_count": 142,
     "metadata": {},
     "output_type": "execute_result"
    }
   ],
   "source": [
    "import pandas as pd\n",
    "date = pd.to_datetime(\"2016-08-06\")\n"
   ]
  },
  {
   "cell_type": "code",
   "execution_count": null,
   "metadata": {},
   "outputs": [],
   "source": [
    "import calendar\n",
    "import datetime\n",
    "import dateutil\n",
    "today = datetime.datetime.now()\n",
    "i=1\n",
    "out_t=pd.DataFrame()\n",
    "colum = [\"Brand_name\",\"Total_Number_of_Reviews\",\"review_date\",\"Month\",\"Year\"]\n",
    "for c in mapped_comp:\n",
    "    i=0\n",
    "    print c\n",
    "    comp_rev = mapped_comp_source[mapped_comp_source.company == c]\n",
    "    comp_rev['review_date'] =pd.to_datetime(comp_rev['review_date'])\n",
    "    date_df= comp_rev.sort_values(by='review_date')\n",
    "    date_df = date_df[date_df.review_date  > '2017-01-02']\n",
    "    if date_df.empty:\n",
    "        continue\n",
    "    else:\n",
    "        a = date_df['review_date'].groupby(date_df.review_date.dt.to_period(\"M\")).agg('count')\n",
    "        a = pd.DataFrame(a).rename(columns={'review_date':'Total_Number_of_Reviews'}).reset_index(drop=False)\n",
    "        a['Brand_name'] = c\n",
    "        a['Year'] = a['review_date'].dt.year\n",
    "        a['Month'] = a['review_date'].dt.month\n",
    "        out_t = pd.concat([out_t,a])"
   ]
  },
  {
   "cell_type": "code",
   "execution_count": 144,
   "metadata": {},
   "outputs": [],
   "source": [
    "lis= ['maybelline','loreal','lakme','mac','colorbar']\n",
    "out_t_t = out_t[out_t['Brand_name'].isin(lis)]"
   ]
  },
  {
   "cell_type": "code",
   "execution_count": 193,
   "metadata": {},
   "outputs": [],
   "source": [
    "out_t_t.to_csv(\"1_task_12_months_review_brand_wise_lipsticks_new.csv\",index=False,columns =colum)"
   ]
  },
  {
   "cell_type": "code",
   "execution_count": 145,
   "metadata": {},
   "outputs": [],
   "source": [
    "del tree['source']"
   ]
  },
  {
   "cell_type": "code",
   "execution_count": 146,
   "metadata": {},
   "outputs": [],
   "source": [
    "out_prod_tree_date = tree.merge(mapped_comp_source[['source_review_id','review_date','company','source']], left_on='source_review_id', right_on='source_review_id')"
   ]
  },
  {
   "cell_type": "code",
   "execution_count": 15,
   "metadata": {},
   "outputs": [],
   "source": [
    "lis= ['maybelline','loreal','lakme','mac','colorbar']\n",
    "t1 = out_t[out_t['Brand_name'].isin(lis)]"
   ]
  },
  {
   "cell_type": "code",
   "execution_count": 149,
   "metadata": {},
   "outputs": [
    {
     "name": "stderr",
     "output_type": "stream",
     "text": [
      "/Users/devanshg/saas/lib/python2.7/site-packages/ipykernel_launcher.py:9: SettingWithCopyWarning: \n",
      "A value is trying to be set on a copy of a slice from a DataFrame.\n",
      "Try using .loc[row_indexer,col_indexer] = value instead\n",
      "\n",
      "See the caveats in the documentation: http://pandas.pydata.org/pandas-docs/stable/indexing.html#indexing-view-versus-copy\n",
      "  if __name__ == '__main__':\n"
     ]
    }
   ],
   "source": [
    "i=1\n",
    "out_t_sent=pd.DataFrame()\n",
    "map_comp_tree = out_prod_tree_date.company.unique()\n",
    "#print map_comp_tree\n",
    "for c in map_comp_tree:\n",
    "    i=0\n",
    "   # print c\n",
    "    comp_rev = out_prod_tree_date[out_prod_tree_date.company == c]\n",
    "    comp_rev['review_date'] =pd.to_datetime(comp_rev['review_date'])\n",
    "    date_df= comp_rev.sort_values(by='review_date')\n",
    "    date_df = date_df[date_df.sentiment_type == 'positive']\n",
    "    date_df = date_df[date_df.review_date  > '2017-01-02']\n",
    "    a= date_df[date_df.sentiment_type == 'positive']\n",
    "    if date_df.empty:\n",
    "        continue\n",
    "    else:\n",
    "        a = a['review_date'].groupby(a.review_date.dt.to_period(\"M\")).agg('count')\n",
    "        a = pd.DataFrame(a).rename(columns={'review_date':'Total_Number_of_PositiveReviews'}).reset_index(drop=False)\n",
    "        a['Brand_name'] = c\n",
    "        a['Year'] = a['review_date'].dt.year\n",
    "        a['Month'] = a['review_date'].dt.month\n",
    "        out_t_sent = pd.concat([out_t_sent,a])"
   ]
  },
  {
   "cell_type": "code",
   "execution_count": 56,
   "metadata": {},
   "outputs": [],
   "source": [
    "#colu = [\"Brand_name\",\"TotalPositive__Reviews\",\"Month\",\"Year\"]\n",
    "#out_t_sent.columns=colu\n",
    "lis= ['maybelline','loreal','lakme','mac','colorbar']\n",
    "out_t_sent = out_t_sent[out_t_sent['Brand_name'].isin(lis)]\n",
    "out_t_sent.to_csv(\"2_positive_percentage_fragmentswise_for_last_year_lipsticks_new.csv\",index=False)"
   ]
  },
  {
   "cell_type": "code",
   "execution_count": 87,
   "metadata": {},
   "outputs": [
    {
     "ename": "AttributeError",
     "evalue": "'DataFrame' object has no attribute 'company'",
     "output_type": "error",
     "traceback": [
      "\u001b[0;31m---------------------------------------------------------------------------\u001b[0m",
      "\u001b[0;31mAttributeError\u001b[0m                            Traceback (most recent call last)",
      "\u001b[0;32m<ipython-input-87-9d70bf93e3c9>\u001b[0m in \u001b[0;36m<module>\u001b[0;34m()\u001b[0m\n\u001b[1;32m      1\u001b[0m \u001b[0mi\u001b[0m\u001b[0;34m=\u001b[0m\u001b[0;36m1\u001b[0m\u001b[0;34m\u001b[0m\u001b[0m\n\u001b[1;32m      2\u001b[0m \u001b[0mout_t_all\u001b[0m\u001b[0;34m=\u001b[0m\u001b[0mpd\u001b[0m\u001b[0;34m.\u001b[0m\u001b[0mDataFrame\u001b[0m\u001b[0;34m(\u001b[0m\u001b[0;34m)\u001b[0m\u001b[0;34m\u001b[0m\u001b[0m\n\u001b[0;32m----> 3\u001b[0;31m \u001b[0mmap_comp_tree\u001b[0m \u001b[0;34m=\u001b[0m \u001b[0mout_prod_tree_date\u001b[0m\u001b[0;34m.\u001b[0m\u001b[0mcompany\u001b[0m\u001b[0;34m.\u001b[0m\u001b[0munique\u001b[0m\u001b[0;34m(\u001b[0m\u001b[0;34m)\u001b[0m\u001b[0;34m\u001b[0m\u001b[0m\n\u001b[0m\u001b[1;32m      4\u001b[0m \u001b[0;31m#print map_comp_tree\u001b[0m\u001b[0;34m\u001b[0m\u001b[0;34m\u001b[0m\u001b[0m\n\u001b[1;32m      5\u001b[0m \u001b[0;32mfor\u001b[0m \u001b[0mc\u001b[0m \u001b[0;32min\u001b[0m \u001b[0mmap_comp_tree\u001b[0m\u001b[0;34m:\u001b[0m\u001b[0;34m\u001b[0m\u001b[0m\n",
      "\u001b[0;32m/Users/devanshg/saas/lib/python2.7/site-packages/pandas/core/generic.pyc\u001b[0m in \u001b[0;36m__getattr__\u001b[0;34m(self, name)\u001b[0m\n\u001b[1;32m   3612\u001b[0m             \u001b[0;32mif\u001b[0m \u001b[0mname\u001b[0m \u001b[0;32min\u001b[0m \u001b[0mself\u001b[0m\u001b[0;34m.\u001b[0m\u001b[0m_info_axis\u001b[0m\u001b[0;34m:\u001b[0m\u001b[0;34m\u001b[0m\u001b[0m\n\u001b[1;32m   3613\u001b[0m                 \u001b[0;32mreturn\u001b[0m \u001b[0mself\u001b[0m\u001b[0;34m[\u001b[0m\u001b[0mname\u001b[0m\u001b[0;34m]\u001b[0m\u001b[0;34m\u001b[0m\u001b[0m\n\u001b[0;32m-> 3614\u001b[0;31m             \u001b[0;32mreturn\u001b[0m \u001b[0mobject\u001b[0m\u001b[0;34m.\u001b[0m\u001b[0m__getattribute__\u001b[0m\u001b[0;34m(\u001b[0m\u001b[0mself\u001b[0m\u001b[0;34m,\u001b[0m \u001b[0mname\u001b[0m\u001b[0;34m)\u001b[0m\u001b[0;34m\u001b[0m\u001b[0m\n\u001b[0m\u001b[1;32m   3615\u001b[0m \u001b[0;34m\u001b[0m\u001b[0m\n\u001b[1;32m   3616\u001b[0m     \u001b[0;32mdef\u001b[0m \u001b[0m__setattr__\u001b[0m\u001b[0;34m(\u001b[0m\u001b[0mself\u001b[0m\u001b[0;34m,\u001b[0m \u001b[0mname\u001b[0m\u001b[0;34m,\u001b[0m \u001b[0mvalue\u001b[0m\u001b[0;34m)\u001b[0m\u001b[0;34m:\u001b[0m\u001b[0;34m\u001b[0m\u001b[0m\n",
      "\u001b[0;31mAttributeError\u001b[0m: 'DataFrame' object has no attribute 'company'"
     ]
    }
   ],
   "source": [
    "i=1\n",
    "out_t_all=pd.DataFrame()\n",
    "map_comp_tree = out_prod_tree_date.company.unique()\n",
    "#print map_comp_tree\n",
    "for c in map_comp_tree:\n",
    "    i=0\n",
    "   # print c\n",
    "    comp_rev = out_prod_tree_date[out_prod_tree_date.company == c]\n",
    "    comp_rev['review_date'] =pd.to_datetime(comp_rev['review_date'])\n",
    "    date_df= comp_rev.sort_values(by='review_date')\n",
    "    a = date_df[date_df.review_date  > '2017-01-02']\n",
    "    if a.empty:\n",
    "        continue\n",
    "    else:\n",
    "       # print a['review_date']\n",
    "        a = a['review_date'].groupby(a.review_date.dt.to_period(\"M\")).agg('count')\n",
    "        a = pd.DataFrame(a).rename(columns={'review_date':'Total_Number_of_Reviews'}).reset_index(drop=False)\n",
    "        a['Brand_name'] = c\n",
    "        \n",
    "        a['Year'] = a['review_date'].dt.year\n",
    "        a['Month'] = a['review_date'].dt.month\n",
    "        out_t_all = pd.concat([out_t_all,a])"
   ]
  },
  {
   "cell_type": "code",
   "execution_count": 73,
   "metadata": {},
   "outputs": [],
   "source": [
    "#df4 = out_t_sent.merge(out_t_all, left_on='review_date', right_on='review_date')\n",
    "df4 = pd.merge(out_t_sent, out_t_all[['review_date','Brand_name','Total_Number_of_Reviews']],  how='left', left_on=['review_date','Brand_name'], right_on = ['review_date','Brand_name'])\n",
    "df4=df4.drop_duplicates()"
   ]
  },
  {
   "cell_type": "code",
   "execution_count": null,
   "metadata": {},
   "outputs": [],
   "source": [
    "out_prod_tree_date = pd.merge(tree)"
   ]
  },
  {
   "cell_type": "code",
   "execution_count": 77,
   "metadata": {},
   "outputs": [],
   "source": [
    "final = []\n",
    "for row in df4.to_dict('records'):\n",
    "    row['positive percentage'] = float(row['Total_Number_of_PositiveReviews']/float(row['Total_Number_of_Reviews']))*100\n",
    "    final.append(row)\n",
    "final =pd.DataFrame(final)"
   ]
  },
  {
   "cell_type": "code",
   "execution_count": 81,
   "metadata": {},
   "outputs": [],
   "source": [
    "final.to_csv(\"2_positive_percentage_fragmentswise_for_last_year_lipsticks_new.csv\",index=False)"
   ]
  },
  {
   "cell_type": "code",
   "execution_count": 150,
   "metadata": {},
   "outputs": [],
   "source": [
    "i=1\n",
    "out_prod_tree_date['review_date'] =pd.to_datetime(out_prod_tree_date['review_date'])\n",
    "out_prod_tree_date= out_prod_tree_date.sort_values(by='review_date')\n",
    "out_prod_tree_date =out_prod_tree_date[out_prod_tree_date.review_date  > '2017-01-02']\n",
    "out_prod_tree_date = out_prod_tree_date[out_prod_tree_date['company'].isin(lis)]\n",
    "out_t_sent_rank=[]\n",
    "map_comp_tree = out_prod_tree_date.company.unique()\n",
    "comp_map_source = out_prod_tree_date.source.unique()\n",
    "#print map_comp_tree\n",
    "colu = [\"Brand_name\",\"Total_positive_fragments\",\"Total_review_fragments\",\"Total_positive percentage\"]\n",
    "for s in comp_map_source:\n",
    "    if s == 1:\n",
    "        source = \"Flipkart\"\n",
    "        total_pos = \"Flipkart_total_positive\"\n",
    "        total_src =\"Flipkart_total_reviews\"\n",
    "    if s == 3:\n",
    "        source = \"Amazon\"\n",
    "        total_pos = \"Amazon_total_positive\"\n",
    "        total_src =\"Amazon_total_reviews\"\n",
    "    if s == 5:\n",
    "        source = \"Nyka\"\n",
    "        total_pos = \"Nyka_total_positive\"\n",
    "        total_src =\"Nyka_total_reviews\"\n",
    "\n",
    "    colu.append(total_pos)\n",
    "    colu.append(source)\n",
    "    colu.append(total_src)\n"
   ]
  },
  {
   "cell_type": "code",
   "execution_count": 152,
   "metadata": {},
   "outputs": [],
   "source": [
    "for c in map_comp_tree:\n",
    "    comp_rev = out_prod_tree_date[out_prod_tree_date.company == c]\n",
    "    total = len(comp_rev.index)\n",
    "    #print total\n",
    "    #comp_rev_source = comp_rev.source_y.unique()\n",
    "    comp_rev_pos = comp_rev[comp_rev.sentiment_type == 'positive']\n",
    "    total_pos = len(comp_rev_pos.index)\n",
    "    if total == 0:\n",
    "        total =1\n",
    "    row2 = [c,total_pos,total,float(total_pos/float(total))]\n",
    "    for s in comp_map_source:\n",
    "        comp_rev_source_1 = comp_rev[comp_rev.source == s]\n",
    "        \n",
    "        total_source = len(comp_rev_source_1.index)\n",
    "        if total_source == 0:\n",
    "            comp_rev_pos_source = comp_rev_source_1[comp_rev_source_1.sentiment_type == 'positive']\n",
    "            total_pos_source = len(comp_rev_pos_source.index)\n",
    "            row2.append(total_pos)\n",
    "            row2.append(0)\n",
    "            row2.append(0)\n",
    "        else:    \n",
    "            comp_rev_pos_source = comp_rev_source_1[comp_rev_source_1.sentiment_type == 'positive']\n",
    "            total_pos_source = len(comp_rev_pos_source.index)\n",
    "            row2.append(total_pos_source)\n",
    "            row2.append(float(total_pos_source/float(total_source))*100)\n",
    "            row2.append((total_source))\n",
    "    out_t_sent_rank.append(row2)\n",
    "out_t_sent_rank=pd.DataFrame(out_t_sent_rank)        \n",
    "out_t_sent_rank.columns=colu\n",
    "out_t_sent_rank.to_csv(\"4_task_positive_percentage_lipstick_source_wise2.csv\",index=False)"
   ]
  },
  {
   "cell_type": "code",
   "execution_count": 86,
   "metadata": {},
   "outputs": [],
   "source": [
    "out_t_sent_rank.to_csv(\"4_task_positive_percentage_lipstick_source_rank.csv\",index=False)"
   ]
  },
  {
   "cell_type": "code",
   "execution_count": 92,
   "metadata": {},
   "outputs": [
    {
     "data": {
      "text/plain": [
       "85088"
      ]
     },
     "execution_count": 92,
     "metadata": {},
     "output_type": "execute_result"
    }
   ],
   "source": [
    "out_t_sent_rank['Total_positive_fragments'].sum()"
   ]
  },
  {
   "cell_type": "code",
   "execution_count": null,
   "metadata": {},
   "outputs": [],
   "source": []
  }
 ],
 "metadata": {
  "kernelspec": {
   "display_name": "Python 2",
   "language": "python",
   "name": "python2"
  },
  "language_info": {
   "codemirror_mode": {
    "name": "ipython",
    "version": 2
   },
   "file_extension": ".py",
   "mimetype": "text/x-python",
   "name": "python",
   "nbconvert_exporter": "python",
   "pygments_lexer": "ipython2",
   "version": "2.7.10"
  }
 },
 "nbformat": 4,
 "nbformat_minor": 2
}
