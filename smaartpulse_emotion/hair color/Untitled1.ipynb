{
 "cells": [
  {
   "cell_type": "code",
   "execution_count": 23,
   "metadata": {},
   "outputs": [],
   "source": [
    "import pandas as pd\n"
   ]
  },
  {
   "cell_type": "code",
   "execution_count": 24,
   "metadata": {},
   "outputs": [],
   "source": [
    "source = pd.read_csv(\"source_reviews_haircolor_23-1-2018.txt\",sep='~')\n",
    "tree = pd.read_csv(\"treemap_outputfile_mapped_2018-1-25_haircolor_sentiment_loreal.txt\",sep='~')"
   ]
  },
  {
   "cell_type": "code",
   "execution_count": 25,
   "metadata": {},
   "outputs": [],
   "source": [
    "source=source.drop_duplicates()\n",
    "del tree['source']"
   ]
  },
  {
   "cell_type": "code",
   "execution_count": 26,
   "metadata": {},
   "outputs": [],
   "source": [
    "tree=tree.drop_duplicates()"
   ]
  },
  {
   "cell_type": "code",
   "execution_count": 27,
   "metadata": {},
   "outputs": [
    {
     "data": {
      "text/plain": [
       "21845"
      ]
     },
     "execution_count": 27,
     "metadata": {},
     "output_type": "execute_result"
    }
   ],
   "source": [
    "len(tree.index)"
   ]
  },
  {
   "cell_type": "code",
   "execution_count": 28,
   "metadata": {},
   "outputs": [],
   "source": [
    "out_prod=[]\n",
    "for row in source.to_dict(\"records\"):\n",
    "    row['product_name'] = row['product_name'].lower()\n",
    "    row['product_name'] = row['product_name'].replace(\"l'oreal\",\"loreal\").replace('l-oreal',\"loreal\").replace('e-l-f',\"elf\").replace('v-color',\"\").replace('m-n-mn',\"mn\").replace('m-a-c',\"mac\").replace('k-veda',\"KVeda\").replace('l-a-girl',\"l_a_girl\").replace('7-heaven',\"7_heaven\").replace('7heavens',\"7_heaven\").replace('7-heavens',\"7_heaven\").replace('c-a-l-los-angeles',\"c_a_l_los_angeles\").replace('c-l-los-angeles',\"c_a_l_los_angeles\").replace(\" \",\"-\").lower()\n",
    "    x = row['product_name'].split('-', 1)\n",
    "    #x = x.split(' ')\n",
    "    row['company'] = x[0].lower()\n",
    "    out_prod.append(row)\n",
    "mapped_comp_source=pd.DataFrame(out_prod)"
   ]
  },
  {
   "cell_type": "code",
   "execution_count": 29,
   "metadata": {},
   "outputs": [],
   "source": [
    "mapped_comp = mapped_comp_source.company.unique()"
   ]
  },
  {
   "cell_type": "code",
   "execution_count": 30,
   "metadata": {},
   "outputs": [
    {
     "data": {
      "text/plain": [
       "23"
      ]
     },
     "execution_count": 30,
     "metadata": {},
     "output_type": "execute_result"
    }
   ],
   "source": [
    "len(mapped_comp)"
   ]
  },
  {
   "cell_type": "code",
   "execution_count": 31,
   "metadata": {},
   "outputs": [
    {
     "name": "stdout",
     "output_type": "stream",
     "text": [
      "revlon\n",
      "loreal\n",
      "streax\n",
      "bblunt\n",
      "godrej\n",
      "garnier\n",
      "schwarzkopf\n",
      "crazy\n",
      "dexe\n",
      "vlcc\n",
      "kama\n",
      "hair\n",
      "khadi\n",
      "richfeel\n",
      "hair4real\n",
      "dove\n",
      "krishkare\n",
      "biotique\n",
      "organix\n",
      "surya\n",
      "bigen\n",
      "gratia\n",
      "colorica\n"
     ]
    }
   ],
   "source": [
    "import calendar\n",
    "import datetime\n",
    "import dateutil\n",
    "today = datetime.datetime.now()\n",
    "i=1\n",
    "out_t=[]\n",
    "colum = [\"Brand_name\",\"Total_Number_of_Reviews\",\"Month\",\"Year\"]\n",
    "for c in mapped_comp:\n",
    "    print c\n",
    "    cnt_p = 0\n",
    "    cnt = 0\n",
    "    cnt_n=0\n",
    "    comp_rev = mapped_comp_source[mapped_comp_source.company == c]\n",
    "    company = c\n",
    "    for i in range (1,13):\n",
    "        cnt =0\n",
    "#        cnt_p =0\n",
    " #       cnt_n=0\n",
    "        for row in comp_rev.to_dict(\"records\"):\n",
    "            dt = dateutil.parser.parse(row['review_date'])\n",
    "            if dt.year == today.year - 1:\n",
    "                year = dt.year\n",
    "                if dt.month == i:\n",
    "                    #if row['sentiment_type'].strip() == 'negative':\n",
    "                     #   cnt_n = cnt_n+1\n",
    "                    #else:\n",
    "                      #  cnt_p =cnt_p+1\n",
    "                    cnt = cnt +1\n",
    "        if cnt > 0 :\n",
    "            row2 = [company,cnt,i,year]#,float(cnt_p/float(cnt))*100]\n",
    "            out_t.append(row2)\n",
    "out_t=pd.DataFrame(out_t)        \n",
    "out_t.columns=colum"
   ]
  },
  {
   "cell_type": "code",
   "execution_count": 32,
   "metadata": {},
   "outputs": [],
   "source": [
    "out_t.to_csv(\"1_task_12_months_review_brand_wise_lipsticks.csv\",index=False)"
   ]
  },
  {
   "cell_type": "code",
   "execution_count": 33,
   "metadata": {},
   "outputs": [],
   "source": [
    "out_prod_tree_date = tree.merge(mapped_comp_source, left_on='source_review_id', right_on='source_review_id')"
   ]
  },
  {
   "cell_type": "code",
   "execution_count": 34,
   "metadata": {},
   "outputs": [],
   "source": [
    "\n",
    "del out_prod_tree_date['source_product_id_y']"
   ]
  },
  {
   "cell_type": "code",
   "execution_count": 35,
   "metadata": {},
   "outputs": [],
   "source": [
    "out_prod_tree_date=out_prod_tree_date.drop_duplicates()"
   ]
  },
  {
   "cell_type": "code",
   "execution_count": 36,
   "metadata": {},
   "outputs": [
    {
     "data": {
      "text/plain": [
       "24049"
      ]
     },
     "execution_count": 36,
     "metadata": {},
     "output_type": "execute_result"
    }
   ],
   "source": [
    "len(out_prod_tree_date.index)"
   ]
  },
  {
   "cell_type": "code",
   "execution_count": 37,
   "metadata": {},
   "outputs": [
    {
     "name": "stdout",
     "output_type": "stream",
     "text": [
      "revlon\n",
      "68.8311688312\n",
      "79.1666666667\n",
      "92.1052631579\n",
      "78.640776699\n",
      "90.8163265306\n",
      "82.4074074074\n",
      "82.0895522388\n",
      "76.7441860465\n",
      "85.1063829787\n",
      "80.487804878\n",
      "38.8888888889\n",
      "60.0\n",
      "loreal\n",
      "67.5675675676\n",
      "71.4987714988\n",
      "67.6315789474\n",
      "72.6962457338\n",
      "76.3742690058\n",
      "73.1578947368\n",
      "76.7203513909\n",
      "59.865470852\n",
      "75.5294117647\n",
      "80.4523424879\n",
      "73.8882554162\n",
      "84.7392638037\n",
      "streax\n",
      "52.380952381\n",
      "72.7272727273\n",
      "56.0975609756\n",
      "84.6153846154\n",
      "50.0\n",
      "86.3636363636\n",
      "80.6451612903\n",
      "90.2777777778\n",
      "75.0\n",
      "71.7171717172\n",
      "97.1428571429\n",
      "80.0\n",
      "bblunt\n",
      "76.9230769231\n",
      "74.8603351955\n",
      "63.7037037037\n",
      "72.1804511278\n",
      "71.0526315789\n",
      "72.9857819905\n",
      "88.3064516129\n",
      "81.2121212121\n",
      "71.914893617\n",
      "85.2589641434\n",
      "74.7330960854\n",
      "81.7021276596\n",
      "garnier\n",
      "76.0\n",
      "88.0\n",
      "66.6666666667\n",
      "96.0\n",
      "99.1803278689\n",
      "79.3548387097\n",
      "92.5925925926\n",
      "100.0\n",
      "crazy\n",
      "60.0\n",
      "90.0\n",
      "89.4736842105\n",
      "93.3333333333\n",
      "100.0\n",
      "100.0\n",
      "60.0\n",
      "92.3076923077\n",
      "vlcc\n",
      "100.0\n",
      "100.0\n",
      "84.6153846154\n",
      "100.0\n",
      "93.75\n",
      "80.0\n",
      "100.0\n",
      "100.0\n",
      "100.0\n",
      "100.0\n",
      "kama\n",
      "84.2105263158\n",
      "100.0\n",
      "65.0\n",
      "91.6666666667\n",
      "100.0\n",
      "100.0\n",
      "100.0\n",
      "100.0\n",
      "khadi\n",
      "100.0\n",
      "100.0\n",
      "85.7142857143\n",
      "schwarzkopf\n",
      "75.0\n",
      "100.0\n",
      "20.0\n",
      "100.0\n",
      "69.5652173913\n",
      "100.0\n",
      "godrej\n",
      "87.5\n",
      "100.0\n",
      "100.0\n",
      "50.0\n",
      "84.2105263158\n",
      "91.3793103448\n",
      "100.0\n",
      "100.0\n",
      "73.8095238095\n",
      "100.0\n",
      "100.0\n",
      "96.4285714286\n",
      "richfeel\n",
      "25.0\n",
      "100.0\n",
      "100.0\n",
      "100.0\n",
      "85.7142857143\n",
      "100.0\n",
      "hair4real\n",
      "62.5\n",
      "60.0\n",
      "89.4736842105\n",
      "dove\n",
      "90.0\n",
      "75.0\n",
      "100.0\n",
      "66.6666666667\n",
      "92.8571428571\n",
      "95.652173913\n",
      "100.0\n",
      "100.0\n",
      "krishkare\n",
      "100.0\n",
      "100.0\n",
      "biotique\n",
      "78.2608695652\n",
      "85.7142857143\n",
      "94.7368421053\n",
      "73.3333333333\n",
      "87.5\n",
      "bigen\n",
      "colorica\n",
      "dexe\n",
      "100.0\n",
      "100.0\n",
      "hair\n",
      "100.0\n",
      "organix\n",
      "surya\n",
      "90.9090909091\n",
      "0.0\n",
      "gratia\n",
      "100.0\n"
     ]
    }
   ],
   "source": [
    "i=1\n",
    "out_t_sent=[]\n",
    "map_comp_tree = out_prod_tree_date.company.unique()\n",
    "#print map_comp_tree\n",
    "#colu = [\"Brand_name\",\"Trend_Total_Reviews\",\"Month\",\"Year\",\"positive\"]\n",
    "for c in map_comp_tree:\n",
    "    print c\n",
    "    cnt_p = 0\n",
    "    cnt = 0\n",
    "    cnt_n=0\n",
    "    comp_rev = out_prod_tree_date[out_prod_tree_date.company == c]\n",
    "    company = c\n",
    "    for i in range (1,13):\n",
    "        cnt =0\n",
    "        cnt_p =0\n",
    "        cnt_n=0\n",
    "        for row in comp_rev.to_dict(\"records\"):\n",
    "            dt = dateutil.parser.parse(row['review_date'])\n",
    "            if dt.year == today.year - 1:\n",
    "                year = dt.year\n",
    "                if dt.month == i:\n",
    "                    if row['sentiment_type'].strip() == 'negative':\n",
    "                        cnt_n = cnt_n+1\n",
    "                    else:\n",
    "                        cnt_p =cnt_p+1\n",
    "                    cnt = cnt +1\n",
    "      #  print cnt\n",
    "        if cnt > 0 :\n",
    "            pos = (float(cnt_p/float(cnt))*100)\n",
    "            print pos\n",
    "            row2 = [company,cnt,i,year,pos]\n",
    "            out_t_sent.append(row2)\n",
    "out_t_sent=pd.DataFrame(out_t_sent)        \n",
    "#out_t_sent.columns=colu\n"
   ]
  },
  {
   "cell_type": "code",
   "execution_count": 38,
   "metadata": {},
   "outputs": [],
   "source": [
    "colu = [\"Brand_name\",\"TotalPositive__Reviews\",\"Month\",\"Year\",\"positive\"]\n",
    "out_t_sent.columns=colu\n",
    "out_t_sent.to_csv(\"2_positive_percentage_fragmentswise_for_last_year_haircolor.csv\",index=False)"
   ]
  },
  {
   "cell_type": "code",
   "execution_count": null,
   "metadata": {},
   "outputs": [],
   "source": []
  },
  {
   "cell_type": "markdown",
   "metadata": {},
   "source": []
  },
  {
   "cell_type": "code",
   "execution_count": 39,
   "metadata": {},
   "outputs": [],
   "source": [
    "i=1\n",
    "out_t_sent_rank=[]\n",
    "map_comp_tree = out_prod_tree_date.company.unique()\n",
    "comp_map_source = out_prod_tree_date.source.unique()\n",
    "#print map_comp_tree\n",
    "colu = [\"Brand_name\",\"Total_positive_fragments\",\"Total_review_fragments\",\"Total_positive percentage\"]\n",
    "for s in comp_map_source:\n",
    "    if s == 1:\n",
    "        source = \"Flipkart\"\n",
    "        total_pos = \"Flipkart_total_positive\"\n",
    "    if s == 3:\n",
    "        source = \"Amazon\"\n",
    "        total_pos = \"Amazon_total_positive\"\n",
    "    if s == 5:\n",
    "        source = \"Nyka\"\n",
    "        total_pos = \"Nyka_total_positive\"\n",
    "\n",
    "    colu.append(total_pos)\n",
    "    colu.append(source)\n",
    "\n",
    "\n",
    "for c in map_comp_tree:\n",
    "    comp_rev = out_prod_tree_date[out_prod_tree_date.company == c]\n",
    "    total = len(comp_rev.index)\n",
    "    #comp_rev_source = comp_rev.source_y.unique()\n",
    "    comp_rev_pos = comp_rev[comp_rev.sentiment_type == 'positive']\n",
    "    total_pos = len(comp_rev_pos.index)\n",
    "    row2 = [c,total_pos,total,float(total_pos/float(total))]\n",
    "    for s in comp_map_source:\n",
    "        comp_rev_source_1 = comp_rev[comp_rev.source == s]\n",
    "        total_source = len(comp_rev_source_1.index)\n",
    "        if total_pos == 0:\n",
    "            comp_rev_pos_source = comp_rev_source_1[comp_rev_source_1.sentiment_type == 'positive']\n",
    "            total_pos_source = len(comp_rev_pos_source.index)\n",
    "            row2.append(total_pos)\n",
    "            row2.append(0)\n",
    "        else:    \n",
    "            comp_rev_pos_source = comp_rev_source_1[comp_rev_source_1.sentiment_type == 'positive']\n",
    "            total_pos_source = len(comp_rev_pos_source.index)\n",
    "            row2.append(total_pos_source)\n",
    "            row2.append(float(total_pos_source/float(total_pos))*100)\n",
    "    out_t_sent_rank.append(row2)\n",
    "out_t_sent_rank=pd.DataFrame(out_t_sent_rank)        \n",
    "out_t_sent_rank.columns=colu\n",
    "out_t_sent_rank.to_csv(\"4_task_positive_percentage_haircolor_source_wise.csv\",index=False)"
   ]
  },
  {
   "cell_type": "code",
   "execution_count": 40,
   "metadata": {},
   "outputs": [],
   "source": [
    "out_t_sent_rank.to_csv(\"4_task_positive_percentage_lipstick_source_rank.csv\",index=False)"
   ]
  },
  {
   "cell_type": "code",
   "execution_count": 41,
   "metadata": {},
   "outputs": [
    {
     "data": {
      "text/plain": [
       "18159"
      ]
     },
     "execution_count": 41,
     "metadata": {},
     "output_type": "execute_result"
    }
   ],
   "source": [
    "out_t_sent_rank['Total_positive_fragments'].sum()"
   ]
  },
  {
   "cell_type": "code",
   "execution_count": null,
   "metadata": {},
   "outputs": [],
   "source": []
  },
  {
   "cell_type": "code",
   "execution_count": null,
   "metadata": {},
   "outputs": [],
   "source": []
  }
 ],
 "metadata": {
  "kernelspec": {
   "display_name": "Python 2",
   "language": "python",
   "name": "python2"
  },
  "language_info": {
   "codemirror_mode": {
    "name": "ipython",
    "version": 2
   },
   "file_extension": ".py",
   "mimetype": "text/x-python",
   "name": "python",
   "nbconvert_exporter": "python",
   "pygments_lexer": "ipython2",
   "version": "2.7.10"
  }
 },
 "nbformat": 4,
 "nbformat_minor": 2
}
