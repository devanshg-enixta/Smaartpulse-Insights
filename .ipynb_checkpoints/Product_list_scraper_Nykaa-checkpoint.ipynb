{
 "cells": [
  {
   "cell_type": "code",
   "execution_count": 1,
   "metadata": {},
   "outputs": [
    {
     "name": "stderr",
     "output_type": "stream",
     "text": [
      "/usr/local/lib/python2.7/site-packages/bs4/__init__.py:181: UserWarning: No parser was explicitly specified, so I'm using the best available HTML parser for this system (\"html.parser\"). This usually isn't a problem, but if you run this code on another system, or in a different virtual environment, it may use a different parser and behave differently.\n",
      "\n",
      "The code that caused this warning is on line 174 of the file /usr/local/Cellar/python/2.7.14/Frameworks/Python.framework/Versions/2.7/lib/python2.7/runpy.py. To get rid of this warning, change code that looks like this:\n",
      "\n",
      " BeautifulSoup(YOUR_MARKUP})\n",
      "\n",
      "to this:\n",
      "\n",
      " BeautifulSoup(YOUR_MARKUP, \"html.parser\")\n",
      "\n",
      "  markup_type=markup_type))\n"
     ]
    },
    {
     "name": "stdout",
     "output_type": "stream",
     "text": [
      "Page Number: 1\n",
      "Page Number: 2\n",
      "Page Number: 3\n",
      "Page Number: 4\n",
      "Page Number: 5\n",
      "Page Number: 6\n",
      "Page Number: 7\n",
      "Page Number: 8\n",
      "Page Number: 9\n",
      "Page Number: 10\n",
      "Page Number: 11\n",
      "Page Number: 12\n"
     ]
    },
    {
     "ename": "IndexError",
     "evalue": "list index out of range",
     "output_type": "error",
     "traceback": [
      "\u001b[0;31m---------------------------------------------------------------------------\u001b[0m",
      "\u001b[0;31mIndexError\u001b[0m                                Traceback (most recent call last)",
      "\u001b[0;32m<ipython-input-1-ff104911e9c0>\u001b[0m in \u001b[0;36m<module>\u001b[0;34m()\u001b[0m\n\u001b[1;32m     44\u001b[0m         \u001b[0;31m#print product_name\u001b[0m\u001b[0;34m\u001b[0m\u001b[0;34m\u001b[0m\u001b[0m\n\u001b[1;32m     45\u001b[0m         \u001b[0mproduct_name\u001b[0m \u001b[0;34m=\u001b[0m \u001b[0mre\u001b[0m\u001b[0;34m.\u001b[0m\u001b[0mfindall\u001b[0m\u001b[0;34m(\u001b[0m\u001b[0;34mr'//.*/(.*html)'\u001b[0m\u001b[0;34m,\u001b[0m \u001b[0mproduct_name\u001b[0m\u001b[0;34m)\u001b[0m\u001b[0;34m\u001b[0m\u001b[0m\n\u001b[0;32m---> 46\u001b[0;31m         \u001b[0mproduct_name\u001b[0m \u001b[0;34m=\u001b[0m \u001b[0mproduct_name\u001b[0m\u001b[0;34m[\u001b[0m\u001b[0;36m0\u001b[0m\u001b[0;34m]\u001b[0m\u001b[0;34m\u001b[0m\u001b[0m\n\u001b[0m\u001b[1;32m     47\u001b[0m         \u001b[0mproduct_name\u001b[0m \u001b[0;34m=\u001b[0m \u001b[0mproduct_name\u001b[0m\u001b[0;34m.\u001b[0m\u001b[0mreplace\u001b[0m\u001b[0;34m(\u001b[0m\u001b[0;34m'.html'\u001b[0m\u001b[0;34m,\u001b[0m\u001b[0;34m\"\"\u001b[0m\u001b[0;34m)\u001b[0m\u001b[0;34m\u001b[0m\u001b[0m\n\u001b[1;32m     48\u001b[0m         \u001b[0;31m#print product_name\u001b[0m\u001b[0;34m\u001b[0m\u001b[0;34m\u001b[0m\u001b[0m\n",
      "\u001b[0;31mIndexError\u001b[0m: list index out of range"
     ]
    }
   ],
   "source": [
    "#http://www.nykaa.com/makeup/eyes.html?root=nav_2&dir=desc&order=popularity    \n",
    "__author__ = 'Murtuza'\n",
    "import requests\n",
    "import csv\n",
    "import re\n",
    "import unicodecsv\n",
    "from bs4 import BeautifulSoup\n",
    "import socks\n",
    "import socket\n",
    "\n",
    "#socks.set_default_proxy(socks.SOCKS5, \"localhost\", 9150)\n",
    "#socket.socket = socks.socksocket\n",
    "\n",
    "\n",
    "session = requests.Session()\n",
    "hdr = {'User-Agent': 'Mozilla/5.0 (Macintosh; Intel Mac OS X 10_10_5) AppleWebKit/537.36 (KHTML, like Gecko) Chrome/46.0.2490.80 Safari/537.36',\n",
    "                       'Accept': 'text/html,application/xhtml+xml,application/xml;q=0.9,*/*;q=0.8','Accept': 'text/html,application/xhtml+xml,application/xml;q=0.9,*/*;q=0.8',\n",
    "                       'Accept-Charset': 'ISO-8859-1,utf-8;q=0.7,*;q=0.3',\n",
    "                       'Accept-Encoding': 'none',\n",
    "                       'Accept-Language': 'en-US,en;q=0.8',\n",
    "                       'Connection': 'keep-alive'}\n",
    "\n",
    "csvFile = open(\"output_Nykaa_Product_list.csv\", 'w')\n",
    "productid_file = open(\"output_Nykaa_product_id.csv\", 'w')\n",
    "\n",
    "#writer = unicodecsv.writer(csvFile)\n",
    "#writer.writerow(('product_id'))\n",
    "\n",
    "page_numbers = range(1,30)\n",
    "\n",
    "counter = 0\n",
    "\n",
    "for i in page_numbers:  \n",
    "    product_list_url = \"http://www.nykaa.com/makeup/eyes.html?dir=desc&order=popularity&p=\"+ str(i)+\"&isAjax=1\"\n",
    "    req = session.get(product_list_url, headers = hdr)\n",
    "    soup = BeautifulSoup(req.text)\n",
    "    list_links_page = soup.findAll(\"h3\",{\"class\":\"product-name\"})\n",
    "    #print list_links_page\n",
    "    product_id_tag = soup.findAll(\"a\",{\"class\":\"fancybox\"})\n",
    "    #print product_id_tag\n",
    "    for x in list_links_page:\n",
    "        product_name = x.find(\"a\")\n",
    "        product_name = product_name.get('href')\n",
    "        #print product_name\n",
    "        product_name = re.findall(r'//.*/(.*html)', product_name)\n",
    "        product_name = product_name[0]\n",
    "        product_name = product_name.replace('.html',\"\")\n",
    "        #print product_name\n",
    "        print >> csvFile, product_name\n",
    "    for y in product_id_tag:\n",
    "        product_id = str(y)\n",
    "        #print product_id\n",
    "        #product_id = product_id.get(\"href\")\n",
    "        product_id = re.findall(r'/([0-9]+)/',product_id)\n",
    "        product_id = product_id[0]\n",
    "        print >> productid_file, product_id\n",
    "    if counter == len(page_numbers):\n",
    "        break\n",
    "    counter = counter + 1\n",
    "    print \"Page Number: %d\" %(counter)\n",
    "    \n",
    "csvFile.close()\n",
    "    \n",
    "    \n",
    "                    \n",
    "        \n",
    "\n",
    "#http://www.nykaa.com/makeup/eyes.html?dir=desc&order=popularity&p=3&isAjax=1\n",
    "#http://www.nykaa.com/makeup/eyes.html?root=nav_2&dir=desc&order=popularity\n",
    "#<a href=\"javascript:void(0);\" title=\"See Shades\" class=\"button btn-cart\" onclick=\"showOptions('http://www.nykaa.com/ajaxaddcart/index/options/product_id/17755/','17755','',this);ga('send','event','See Shades','17755','pre');jQuery('#offer_detail_s17755').css({'display':'none'});\">See Shades</a>\n",
    "#<h3 class=\"product-name\"><a target=\"_blank\" href=\"/natio-define-eye-pencil.html?root=search&pos=386&queryterm=eye\" title=\"Natio Define Eye Pencil \">Natio Define Eye Pencil </a></h3>\n",
    "#<a href='http://www.nykaa.com/ajaxaddcart/index/options/product_id/36407/' class='fancybox' id='fancybox36407' style='display:none'></a>\n",
    "                                                                                                #</p>"
   ]
  },
  {
   "cell_type": "code",
   "execution_count": null,
   "metadata": {
    "collapsed": true
   },
   "outputs": [],
   "source": []
  },
  {
   "cell_type": "code",
   "execution_count": null,
   "metadata": {
    "collapsed": true
   },
   "outputs": [],
   "source": []
  }
 ],
 "metadata": {
  "anaconda-cloud": {},
  "kernelspec": {
   "display_name": "Python 2",
   "language": "python",
   "name": "python2"
  },
  "language_info": {
   "codemirror_mode": {
    "name": "ipython",
    "version": 2
   },
   "file_extension": ".py",
   "mimetype": "text/x-python",
   "name": "python",
   "nbconvert_exporter": "python",
   "pygments_lexer": "ipython2",
   "version": "2.7.14"
  }
 },
 "nbformat": 4,
 "nbformat_minor": 1
}
