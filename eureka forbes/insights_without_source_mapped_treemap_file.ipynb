{
 "cells": [
  {
   "cell_type": "code",
   "execution_count": 1,
   "metadata": {},
   "outputs": [],
   "source": [
    "import pandas as pd"
   ]
  },
  {
   "cell_type": "code",
   "execution_count": 5,
   "metadata": {},
   "outputs": [],
   "source": [
    "read = pd.read_csv(\"new_treemap_water purifiers_with_source_id_11-1-2018.txt\",delimiter='~',encoding='utf-8')"
   ]
  },
  {
   "cell_type": "code",
   "execution_count": null,
   "metadata": {},
   "outputs": [],
   "source": [
    "product_id = read.source_product_id.unique()\n",
    "product_source= read.source.unique()"
   ]
  },
  {
   "cell_type": "code",
   "execution_count": 166,
   "metadata": {
    "collapsed": true
   },
   "outputs": [],
   "source": [
    "out=[]\n",
    "col=['source_product_id','source','1star_count','2star_count','3star_count','4star_count','5star_count','total_count','average_5star','average_pct']\n",
    "for ids in product_id:\n",
    "    total = 0\n",
    "    avg_5=0.0\n",
    "    avg_pct=0.0 \n",
    "    rev1 = read[read.source_product_id==ids]\n",
    "    product_source= rev1.source.unique()\n",
    "    for source in product_source:\n",
    "        total = 0\n",
    "        avg_5=0.0\n",
    "        avg_pct=0.0 \n",
    "        rev = rev1[rev1.source ==source]\n",
    "        star_5 = rev[rev.star_rating == 5]\n",
    "        star_4 = rev[rev.star_rating == 4]\n",
    "        star_3 = rev[rev.star_rating == 3]\n",
    "        star_2 = rev[rev.star_rating == 2]\n",
    "        star_1 = rev[rev.star_rating == 1]\n",
    "        total = len(star_1.index)+len(star_2.index)+len(star_3.index)+len(star_4.index)+len(star_5.index)\n",
    "        if total > 0:\n",
    "            avg_5= round(float((1*len(star_1.index)+2*len(star_2.index)+3*len(star_3.index)+4*len(star_4.index)+5*len(star_5.index))/float(total)),3)\n",
    "            avg_pct = round(float((avg_5-1)*25),3)\n",
    "            row = [ids,source,len(star_1.index),len(star_2.index),len(star_3.index),len(star_4.index),len(star_5.index),total,avg_5,avg_pct]\n",
    "            out.append(row)\n",
    "out=pd.DataFrame(out)\n",
    "out.columns = col\n",
    "out.to_csv(\"rating_test.csv\",index=False)\n",
    "    \n"
   ]
  },
  {
   "cell_type": "code",
   "execution_count": 145,
   "metadata": {
    "collapsed": true
   },
   "outputs": [],
   "source": [
    "out_source=[]\n",
    "col=['source_product_id','flipkart','amazon_in','snapdeal']\n",
    "for ids in product_id:\n",
    "    rev = read[read.source_product_id==ids]\n",
    "    s1 = rev[rev.source == 'flipkart']\n",
    "    s3 = rev[rev.source == 'snapdeal']\n",
    "    s2 = rev[rev.source == 'amazon_in']\n",
    "    row = [ids,len(s1.index),len(s2.index),len(s3.index)]\n",
    "#    row.append(df[['Communications','Business']].idxmax(axis=1))\n",
    "    out_source.append(row)\n",
    "out_source=pd.DataFrame(out_source)\n",
    "out_source.columns = col"
   ]
  },
  {
   "cell_type": "code",
   "execution_count": 146,
   "metadata": {
    "collapsed": true
   },
   "outputs": [],
   "source": [
    "out_source['Highest'] = out_source[['flipkart','amazon_in','snapdeal']].idxmax(axis=1)"
   ]
  },
  {
   "cell_type": "code",
   "execution_count": 147,
   "metadata": {
    "collapsed": true
   },
   "outputs": [],
   "source": [
    "\n",
    "out_source.to_csv(\"source_counts.csv\",index=False)\n",
    "    "
   ]
  },
  {
   "cell_type": "code",
   "execution_count": 8,
   "metadata": {},
   "outputs": [],
   "source": [
    "eq = pd.read_csv('eureka_forbes_reviews_new_sources.csv',sep='~')"
   ]
  },
  {
   "cell_type": "code",
   "execution_count": 169,
   "metadata": {
    "collapsed": true
   },
   "outputs": [],
   "source": [
    "out_prod=[]\n",
    "for row in eq.to_dict(\"records\"):\n",
    "    x = row['product_name'].split(' ', 1)\n",
    "    row['company'] = x[0].lower()\n",
    "    out_prod.append(row)\n",
    "out_prod=pd.DataFrame(out_prod)\n",
    "comp = out_prod.company.unique()"
   ]
  },
  {
   "cell_type": "code",
   "execution_count": 10,
   "metadata": {},
   "outputs": [],
   "source": [
    "eq = pd.read_csv('eureka_forbes_reviews_10_1_18.txt',sep='~')"
   ]
  },
  {
   "cell_type": "code",
   "execution_count": 12,
   "metadata": {},
   "outputs": [],
   "source": [
    "eq1 = pd.read_csv('water_purifier_product_list - Sheet1.csv')"
   ]
  },
  {
   "cell_type": "code",
   "execution_count": 13,
   "metadata": {},
   "outputs": [],
   "source": [
    "comp1 = pd.read_csv('new_treemap_water purifiers_with_source_id_11-1-2018.txt',sep='~')"
   ]
  },
  {
   "cell_type": "code",
   "execution_count": 15,
   "metadata": {},
   "outputs": [],
   "source": [
    "output=[]\n",
    "out_prod=[]\n",
    "rev_id = comp1.product_id.unique()\n",
    "for ids in rev_id:\n",
    "    tree = comp1[comp1.product_id == ids ]\n",
    "    org = eq1[eq1.product_id == ids ] \n",
    "    for row1 in org.to_dict(\"records\"):\n",
    "        for row in tree.to_dict(\"records\"):\n",
    "            row['Brand'] = row1['brand_name']\n",
    "            out_prod.append(row)\n",
    "out_prod=pd.DataFrame(out_prod)"
   ]
  },
  {
   "cell_type": "code",
   "execution_count": 17,
   "metadata": {},
   "outputs": [],
   "source": [
    "eureka = out_prod[out_prod.Brand == 'Eureka Forbes']"
   ]
  },
  {
   "cell_type": "code",
   "execution_count": 21,
   "metadata": {},
   "outputs": [],
   "source": [
    "eureka.to_csv('only_Eureka_forbes_reviews.csv',encoding='utf-8',index=False)"
   ]
  },
  {
   "cell_type": "code",
   "execution_count": 356,
   "metadata": {},
   "outputs": [
    {
     "data": {
      "text/plain": [
       "positive    47172\n",
       "negative    24881\n",
       "Name: sentiment_type, dtype: int64"
      ]
     },
     "execution_count": 356,
     "metadata": {},
     "output_type": "execute_result"
    }
   ],
   "source": [
    "out_prod['sentiment_type'].value_counts()"
   ]
  },
  {
   "cell_type": "code",
   "execution_count": 360,
   "metadata": {
    "collapsed": true
   },
   "outputs": [],
   "source": [
    "\n",
    "out_prod_date=[]\n",
    "rev_id = out_prod.source_id_review_id.unique()\n",
    "for ids in rev_id:\n",
    "    tree = out_prod[out_prod.source_id_review_id == ids ]\n",
    "    org = eq[eq.source_review_id == ids ] \n",
    "    for row1 in org.to_dict(\"records\"):\n",
    "        for row in tree.to_dict(\"records\"):\n",
    "            row['review_date'] = row1['review_date']\n",
    "            out_prod_date.append(row)\n",
    "out_prod_date=pd.DataFrame(out_prod_date)"
   ]
  },
  {
   "cell_type": "code",
   "execution_count": 181,
   "metadata": {
    "collapsed": true
   },
   "outputs": [],
   "source": [
    "for ids in product_id:\n",
    "    rev1 = out_prod[out_prod.source_product_id==ids]\n",
    "    product_comp= rev1.company.unique()\n",
    "    for c in product_comp:\n",
    "        comp_rev = rev1[rev1.company == c]\n",
    "        source = comp_rev.source.unique()\n",
    "        for s in source: \n",
    "            row= [ids,c,s]\n",
    "            output.append(row)\n",
    "        #neg = len(comp_rev[rev1.sentiment_type == 'negative'].index) \n",
    "        #pos = len(comp_rev[rev1.sentiment_type == 'positive'].index)\n",
    "        #comp_count = len(comp_rev.index)\n",
    "out_prod_comp=pd.DataFrame(output)        \n",
    "out_prod_comp.columns=colu\n",
    "\n",
    "\n",
    "\n",
    "        \n",
    "  "
   ]
  },
  {
   "cell_type": "code",
   "execution_count": 183,
   "metadata": {
    "collapsed": true
   },
   "outputs": [],
   "source": [
    "out_prod_comp.to_csv(\"brand_source_mapped.csv\",index=False)"
   ]
  },
  {
   "cell_type": "code",
   "execution_count": 214,
   "metadata": {
    "collapsed": true
   },
   "outputs": [],
   "source": [
    "from datetime import *; from dateutil.relativedelta import *\n",
    "import calendar\n",
    "today = datetime.now()"
   ]
  },
  {
   "cell_type": "code",
   "execution_count": 218,
   "metadata": {
    "collapsed": true
   },
   "outputs": [],
   "source": [
    "temp =0\n",
    "cnt = 0\n",
    "colum = [\"Brand\",\"source\",\"Trend\"]\n",
    "out_trend=[]\n",
    "for ids in product_id:\n",
    "    rev1 = out_prod[out_prod_date.source_product_id==ids]\n",
    "    product_comp= rev1.company.unique()\n",
    "    for c in product_comp:\n",
    "        cnt = 0\n",
    "        comp_rev = rev1[rev1.company == c]\n",
    "        source = comp_rev.source.unique()\n",
    "        for s in source: \n",
    "            for row in comp_rev.to_dict(\"records\"):\n",
    "                dt = parser.parse(row['review_date'])\n",
    "                diff = abs((today - dt).days)\n",
    "                if diff < 365:\n",
    "                    cnt = cnt +1\n",
    "            row1 = [c,s,cnt]\n",
    "            out_trend.append(row1)\n",
    "out_trend=pd.DataFrame(out_trend)        \n",
    "out_trend.columns=colum\n",
    "\n",
    "\n",
    "   \n",
    "                \n",
    "    "
   ]
  },
  {
   "cell_type": "code",
   "execution_count": 367,
   "metadata": {
    "collapsed": true
   },
   "outputs": [],
   "source": [
    "temp =0\n",
    "cnt = 0\n",
    "colum = [\"Brand_name\",\"Trend_Total_Reviews\",\"Month\",\"Year\",\"%positive\"]\n",
    "out_t=[]\n",
    "product_comp = out_prod_date.Brand.unique()"
   ]
  },
  {
   "cell_type": "code",
   "execution_count": 369,
   "metadata": {
    "collapsed": true
   },
   "outputs": [],
   "source": [
    "i=1\n",
    "\n",
    "for c in product_comp:\n",
    "    cnt_p = 0\n",
    "    cnt = 0\n",
    "    cnt_n=0\n",
    "    comp_rev = out_prod_date[out_prod_date.Brand == c]\n",
    "    company = c\n",
    "    for i in range (1,13):\n",
    "        cnt =0\n",
    "        cnt_p =0\n",
    "        cnt_n=0\n",
    "        for row in comp_rev.to_dict(\"records\"):\n",
    "            dt = parser.parse(row['review_date'])\n",
    "            if dt.year == today.year - 1:\n",
    "                year = dt.year\n",
    "                if dt.month == i:\n",
    "                    if row['sentiment_type'].strip() == 'negative':\n",
    "                        cnt_n = cnt_n+1\n",
    "                    else:\n",
    "                        cnt_p =cnt_p+1\n",
    "                    cnt = cnt +1\n",
    "        if cnt > 0 :\n",
    "            row2 = [company,cnt,i,year,float(cnt_p/float(cnt))*100]\n",
    "            out_t.append(row2)\n",
    "out_t=pd.DataFrame(out_t)        \n",
    "out_t.columns=colum\n",
    "\n",
    "\n",
    "   \n",
    "                "
   ]
  },
  {
   "cell_type": "code",
   "execution_count": 382,
   "metadata": {
    "collapsed": true
   },
   "outputs": [],
   "source": [
    "colum = [\"Brand_name\",\"Trend_Total_Reviews\",\"Month\",\"Year\",\"per_positive\"]\n",
    "\n",
    "out_t.columns=colum\n",
    "out_t.to_csv(\"Brand_trend_water_purifiers_11_01_2018_month_v2.csv\", index=False)"
   ]
  },
  {
   "cell_type": "code",
   "execution_count": null,
   "metadata": {
    "collapsed": true
   },
   "outputs": [],
   "source": []
  }
 ],
 "metadata": {
  "kernelspec": {
   "display_name": "Python 2",
   "language": "python",
   "name": "python2"
  },
  "language_info": {
   "codemirror_mode": {
    "name": "ipython",
    "version": 2
   },
   "file_extension": ".py",
   "mimetype": "text/x-python",
   "name": "python",
   "nbconvert_exporter": "python",
   "pygments_lexer": "ipython2",
   "version": "2.7.10"
  }
 },
 "nbformat": 4,
 "nbformat_minor": 2
}
